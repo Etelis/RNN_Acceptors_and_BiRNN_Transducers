{
 "cells": [
  {
   "cell_type": "code",
   "execution_count": 2,
   "metadata": {
    "colab": {
     "base_uri": "https://localhost:8080/"
    },
    "id": "rHfwUgF-Lg3e",
    "outputId": "595d746a-f93d-45c4-d54b-7899f14bae90"
   },
   "outputs": [
    {
     "name": "stdout",
     "output_type": "stream",
     "text": [
      "\u001b[33mWARNING: Running pip as the 'root' user can result in broken permissions and conflicting behaviour with the system package manager. It is recommended to use a virtual environment instead: https://pip.pypa.io/warnings/venv\u001b[0m\u001b[33m\n",
      "\u001b[0m"
     ]
    }
   ],
   "source": [
    "!pip install pandas matplotlib tensorboard numpy sympy scikit-learn ordered-set -q"
   ]
  },
  {
   "cell_type": "markdown",
   "metadata": {
    "id": "1Dv1p25lnBli"
   },
   "source": [
    "# Base Configuration"
   ]
  },
  {
   "cell_type": "code",
   "execution_count": 3,
   "metadata": {
    "id": "_KvGReGvnDkP"
   },
   "outputs": [],
   "source": [
    "import torch\n",
    "from pathlib import Path\n",
    "\n",
    "BASE = Path('EX3')\n",
    "BASE_DIR_SAMPLES = Path('EX3/samples')\n",
    "\n",
    "BASE_DIR_DATA = BASE / 'data'\n",
    "MODELS = BASE / 'models'\n",
    "PREDITIONS = BASE / 'predictions'\n",
    "\n",
    "############# TASK 1 ################\n",
    "DATA_1 = BASE_DIR_DATA / '1'\n",
    "BASE_DIR_SAMPLES = DATA_1 / 'samples'\n",
    "TRAIN_1 = DATA_1 / 'train.csv'\n",
    "TEST_1 = DATA_1 / 'test.csv'\n",
    "PREDS_1 = PREDITIONS / 'part1'\n",
    "\n",
    "############# TASK 2 ################\n",
    "DATA_2 = BASE_DIR_DATA / '2'\n",
    "TRAIN_2 = DATA_2 / 'train.csv'\n",
    "TEST_2 = DATA_2 / 'test.csv'\n",
    "PREDS_2 = PREDITIONS / 'part2'\n",
    "\n",
    "############# TASK 3 - A ################\n",
    "DATA_3 = BASE_DIR_DATA / '3'\n",
    "NER_DIR_DATA = DATA_3 / 'ner'\n",
    "POS_DIR_DATA = DATA_3 / 'pos'\n",
    "\n",
    "NER_TRAIN_3 = NER_DIR_DATA / 'train'\n",
    "NER_TEST_3 = NER_DIR_DATA / 'test'\n",
    "NER_DEV_3 = NER_DIR_DATA / 'dev'\n",
    "\n",
    "POS_TRAIN_3 = POS_DIR_DATA / 'train'\n",
    "POS_TEST_3 = POS_DIR_DATA / 'test'\n",
    "POS_DEV_3 = POS_DIR_DATA / 'dev'\n",
    "\n",
    "PREDS_3_A = PREDITIONS / 'part3_A'\n",
    "MODEL_3_A = MODELS / 'part3_A'\n",
    "DATASETS_3_A = MODELS / 'part3_A'\n",
    "DATASETS_3_A_DATA = DATASETS_3_A / 'TokenTagger_instance.pkl'\n",
    "\n",
    "############# TASK 3 - B ################\n",
    "DATASETS_3_B = MODELS / 'part3_B'\n",
    "DATASETS_3_B_DATA = DATASETS_3_B / 'CharLevel_instance.pkl'\n",
    "\n",
    "############# TASK 3 - C ################\n",
    "DATASETS_3_C = MODELS / 'part3_C'\n",
    "DATASETS_3_C_DATA_WORDS = DATASETS_3_C / 'TokenTagger_instance.pkl'\n",
    "DATASETS_3_C_DATA_SUBWORDS = DATASETS_3_C / 'Subwords_instance.pkl'\n",
    "\n",
    "EXTERNAL_EMBEDDING = DATA_3 / 'embedding' / 'embedding.txt'\n",
    "EXTERNAL_VOCAB = DATA_3 / 'embedding' / 'vocab.txt'\n",
    "\n",
    "############# TASK 3 - D ################\n",
    "DATASETS_3_D = MODELS / 'part3_D'\n",
    "DATASETS_3_D_DATA_WORDS = DATASETS_3_D / 'TokenTagger_instance.pkl'\n",
    "DATASETS_3_D_DATA_CHARS = DATASETS_3_D / 'CharLevel_instance.pkl'\n",
    "\n",
    "# Create directories if they don't exist\n",
    "paths = [\n",
    "    BASE_DIR_DATA,\n",
    "    MODELS,\n",
    "    PREDITIONS,\n",
    "    DATA_1,\n",
    "    BASE_DIR_SAMPLES,\n",
    "    DATA_2,\n",
    "    DATA_3,\n",
    "    NER_DIR_DATA,\n",
    "    POS_DIR_DATA,\n",
    "    PREDS_1,\n",
    "    PREDS_2,\n",
    "    PREDS_3_A,\n",
    "    MODEL_3_A,\n",
    "    DATASETS_3_A,\n",
    "    DATASETS_3_B,\n",
    "    DATASETS_3_C,\n",
    "    DATASETS_3_D\n",
    "]\n",
    "\n",
    "for path in paths:\n",
    "    path.mkdir(parents=True, exist_ok=True)\n",
    "\n",
    "\n",
    "MAX_SEQ_LEN = 10\n",
    "NUM_EXAMPLES = 1000\n",
    "NUM_SAMPLES_SUBMIT = 500\n",
    "EMBEDDING_DIM = 50\n",
    "WINDOW_SIZE = 5\n",
    "BATCH_SIZE = 128\n",
    "device = 'cuda' if torch.cuda.is_available() else 'cpu'"
   ]
  },
  {
   "cell_type": "markdown",
   "metadata": {
    "id": "1ziBi6-Fmnpa"
   },
   "source": [
    "# Generating the Data"
   ]
  },
  {
   "cell_type": "code",
   "execution_count": 39,
   "metadata": {
    "cellView": "form",
    "id": "rg_tN0nAmppR"
   },
   "outputs": [],
   "source": [
    "#@title gen examples.py\n",
    "import os\n",
    "import random\n",
    "import csv\n",
    "def generate_example(is_positive, max_seq_len=MAX_SEQ_LEN, num_examples=NUM_EXAMPLES):\n",
    "    examples = []\n",
    "    for _ in range(num_examples):\n",
    "        seq_len = random.randint(1, max_seq_len)\n",
    "        sequence_1 = ''.join(str(random.randint(1, 9)) for _ in range(random.randint(1, max_seq_len)))\n",
    "        sequence_2 = ''.join(str(random.randint(1, 9)) for _ in range(random.randint(1, max_seq_len)))\n",
    "        sequence_3 = ''.join(str(random.randint(1, 9)) for _ in range(random.randint(1, max_seq_len)))\n",
    "        sequence_4 = ''.join(str(random.randint(1, 9)) for _ in range(random.randint(1, max_seq_len)))\n",
    "        sequence_5 = ''.join(str(random.randint(1, 9)) for _ in range(random.randint(1, max_seq_len)))\n",
    "\n",
    "        if is_positive:\n",
    "            examples.append(sequence_1 + 'a'*random.randint(1, max_seq_len) + sequence_2 + 'b'*random.randint(1, max_seq_len) + sequence_3 + 'c'*random.randint(1, max_seq_len) + sequence_4 + 'd'*random.randint(1, max_seq_len) + sequence_5)\n",
    "        else:\n",
    "            examples.append(sequence_1 + 'a'*random.randint(1, max_seq_len) + sequence_2 + 'c'*random.randint(1, max_seq_len) + sequence_3 + 'b'*random.randint(1, max_seq_len) + sequence_4 + 'd'*random.randint(1, max_seq_len) + sequence_5)\n",
    "    return examples\n",
    "\n",
    "\n",
    "def generate_samples(path=BASE_DIR_SAMPLES, num_examples=500, max_seq_len=10):\n",
    "    pos_examples = [generate_example(True, max_seq_len) for _ in range(num_examples)]\n",
    "    neg_examples = [generate_example(False, max_seq_len) for _ in range(num_examples)]\n",
    "    \n",
    "    # Writing examples to files\n",
    "    with open(os.path.join(path, 'pos_examples.txt'), 'w') as f:\n",
    "        for example in pos_examples:\n",
    "            f.write(\"%s\\n\" % example)\n",
    "        \n",
    "    with open(os.path.join(path, 'neg_examples.txt'), 'w') as f:\n",
    "        for example in neg_examples:\n",
    "            f.write(\"%s\\n\" % example)\n",
    "\n",
    "\n",
    "def generate_dataset(path=BASE_DIR_DATA, max_seq_len=MAX_SEQ_LEN, num_examples=NUM_EXAMPLES):\n",
    "    pos_examples = [(example, 'POSITIVE') for example in generate_example(True, max_seq_len, num_examples)]\n",
    "    neg_examples = [(example, 'NEGATIVE') for example in generate_example(False, max_seq_len, num_examples)]\n",
    "    \n",
    "    # Shuffling examples\n",
    "    random.shuffle(pos_examples)\n",
    "    random.shuffle(neg_examples)\n",
    "    \n",
    "    # Combining pos and neg examples\n",
    "    examples = pos_examples + neg_examples\n",
    "    random.shuffle(examples)\n",
    "    \n",
    "    # Splitting into train and test sets (80-20 split)\n",
    "    split_index = int(0.8 * len(examples))\n",
    "    \n",
    "    train = examples[:split_index]\n",
    "    test = examples[split_index:]\n",
    "    \n",
    "    # Writing examples to CSV files\n",
    "    with open(os.path.join(DATA_1, 'train.csv'), mode='w', newline='') as f:\n",
    "        writer = csv.writer(f)\n",
    "        writer.writerow([\"Example\", \"Label\"])\n",
    "        for example in train:\n",
    "            writer.writerow(example)\n",
    "\n",
    "    with open(os.path.join(DATA_1, 'test.csv'), mode='w', newline='') as f:\n",
    "        writer = csv.writer(f)\n",
    "        writer.writerow([\"Example\", \"Label\"])\n",
    "        for example in test:\n",
    "            writer.writerow(example)\n",
    "\n",
    "generate_samples()\n",
    "generate_dataset()"
   ]
  },
  {
   "cell_type": "markdown",
   "metadata": {
    "id": "6VrwUhpuqhQA"
   },
   "source": [
    "# Writing the RNN acceptor network"
   ]
  },
  {
   "cell_type": "code",
   "execution_count": 40,
   "metadata": {
    "id": "PBgLCLazqi65"
   },
   "outputs": [],
   "source": [
    "#@title experiment.py\n",
    "import torch\n",
    "from torch import nn\n",
    "from torch.nn.utils.rnn import pad_sequence\n",
    "from torch.utils.data import Dataset, DataLoader\n",
    "import pandas as pd\n",
    "from collections import defaultdict\n",
    "import os\n",
    "import torch\n",
    "from torch.utils.data import DataLoader\n",
    "from torch.utils.tensorboard import SummaryWriter\n",
    "from torch.optim import Adam\n",
    "from torch.optim.lr_scheduler import StepLR\n",
    "from time import time\n",
    "import matplotlib.pyplot as plt\n",
    "from typing import List, Tuple\n",
    "import pandas as pd\n",
    "import re\n",
    "import torch.nn.functional as F\n",
    "\n",
    "\n",
    "import torch\n",
    "from torch.utils.data import Dataset\n",
    "\n",
    "class BaseDatabase():\n",
    "    \"\"\"\n",
    "    Abstract class representing a Custom Database\n",
    "    \"\"\"\n",
    "    def __init__(self, padding_token: str = \"<PAD>\", unknown_token: str = \"<UNK>\", vocab = []):\n",
    "        self.padding_token = padding_token\n",
    "        self.unknown_token = unknown_token\n",
    "        self.w2i = defaultdict(lambda: self.w2i[unknown_token])  # Word to index\n",
    "        self.i2w = {}  # Index to word\n",
    "        self.l2i = defaultdict(int)  # Label to index\n",
    "        self.i2l = {}  # Index to label\n",
    "        self.max_seq_len = 0  # Max sequence length\n",
    "        self.vocab = vocab  # Vocabulary\n",
    "\n",
    "    def load_data(self) -> Tuple[List[str], List[str]]:\n",
    "        \"\"\"\n",
    "        Abstract method to load data and labels\n",
    "        \"\"\"\n",
    "        raise NotImplementedError(\"Please implement this method to load data and labels.\")\n",
    "\n",
    "    def build_vocab(self):\n",
    "        \"\"\"\n",
    "        Abstract method to build vocabulary\n",
    "        \"\"\"\n",
    "        raise NotImplementedError(\"Please implement this method to build vocabulary.\")\n",
    "        \n",
    "    def build_mappings(self):\n",
    "        \"\"\"\n",
    "        Abstract method to build mappings\n",
    "        \"\"\"\n",
    "        raise NotImplementedError(\"Please implement this method to build mappings.\")\n",
    "\n",
    "    def word_to_index(self, word: str) -> int:\n",
    "        \"\"\"\n",
    "        Abstract method to transform word to index\n",
    "        \"\"\"\n",
    "        raise NotImplementedError(\"Please implement this method to transform word to index.\")\n",
    "        \n",
    "    def label_to_index(self, label: str) -> int:\n",
    "        \"\"\"\n",
    "        Abstract method to transform label to index\n",
    "        \"\"\"\n",
    "        raise NotImplementedError(\"Please implement this method to transform label to index.\")\n",
    "\n",
    "    def vocab_size(self):\n",
    "        return len(self.vocab)\n",
    "\n",
    "    def labels_size(self):\n",
    "        return len(self.labels)\n",
    "        \n",
    "class LanguageClassificationDataset(BaseDatabase):\n",
    "    \"\"\"\n",
    "    A class used to load and preprocess Language Classification Dataset\n",
    "    \"\"\"\n",
    "    def __init__(self, filepath: str, vocab=['a', 'b', 'c', 'd'] + [str(i) for i in range(1, 10)], padding_token: str = \"<PAD>\", unknown_token: str = \"<UNK>\", MAX_SEQ_LEN=MAX_SEQ_LEN):\n",
    "        self.vocab = [padding_token, unknown_token] + vocab\n",
    "        self.labels = ['POSITIVE', 'NEGATIVE']  # binary labels\n",
    "        self.filepath = filepath\n",
    "        self.MAX_SEQ_LEN = MAX_SEQ_LEN \n",
    "        super().__init__(padding_token, unknown_token, vocab=self.vocab)\n",
    "        self.build_vocab()\n",
    "        self.build_mappings()\n",
    "\n",
    "    def pad_sequence(self, sequence: str) -> List[int]:\n",
    "        \"\"\"\n",
    "        Pads a sequence to the length of 9 * MAX_SEQ_LEN\n",
    "        \"\"\"\n",
    "        words = [word for word in sequence]\n",
    "        if len(words) > self.MAX_SEQ_LEN:\n",
    "            raise ValueError(\"Sequence length is greater than 9 * MAX_SEQ_LEN\")\n",
    "        \n",
    "        # Pad the sequence with the padding token\n",
    "        words += [self.padding_token] * (self.MAX_SEQ_LEN - len(words))\n",
    "        # Convert words to indices\n",
    "        return [self.word_to_index(word) for word in words]\n",
    "\n",
    "    def load_data(self, path) -> Tuple[List[List[str]], List[str]]:\n",
    "        \"\"\"\n",
    "        Loads data and labels from a CSV file, and pads the data sequences\n",
    "        \"\"\"\n",
    "        try:\n",
    "            df = pd.read_csv(path)\n",
    "            df.dropna(inplace=True)\n",
    "            df['Example'] = df['Example'].astype(str)\n",
    "            df['Label'] = df['Label'].astype(str)\n",
    "            self.MAX_SEQ_LEN = max([len(seq) for seq in df['Example'].values])\n",
    "            X = [self.pad_sequence(seq) for seq in df['Example'].values]\n",
    "            y = [self.label_to_index(label) for label in df['Label'].values]\n",
    "            \n",
    "            print(f\"Loaded {path} Successfully.\")\n",
    "            return (X, y)\n",
    "            \n",
    "        except Exception as e:\n",
    "            print(f\"Error loading data: {e}\")\n",
    "            return [], []\n",
    "\n",
    "    def build_vocab(self):\n",
    "        \"\"\"\n",
    "        Builds vocabulary based on the given vocab list\n",
    "        \"\"\"\n",
    "        self.w2i = {word: index for index, word in enumerate(self.vocab)}\n",
    "        self.i2w = {index: word for word, index in self.w2i.items()}\n",
    "\n",
    "    def build_mappings(self):\n",
    "        \"\"\"\n",
    "        Builds label mappings based on the given labels list\n",
    "        \"\"\"\n",
    "        self.l2i = {label: index for index, label in enumerate(self.labels)}\n",
    "        self.i2l = {index: label for label, index in self.l2i.items()}\n",
    "\n",
    "    def word_to_index(self, word: str) -> int:\n",
    "        \"\"\"\n",
    "        Transforms a word to its corresponding index. If the word is not in the vocabulary, \n",
    "        it returns the index of the unknown token\n",
    "        \"\"\"\n",
    "        return self.w2i[word]\n",
    "\n",
    "    def label_to_index(self, label: str) -> int:\n",
    "        \"\"\"\n",
    "        Transforms a label to its corresponding index. If the label is not in the labels list, \n",
    "        it raises a ValueError\n",
    "        \"\"\"\n",
    "        if label not in self.l2i:\n",
    "            raise ValueError(f\"Label {label} not found in labels list\")\n",
    "        return self.l2i[label]\n",
    "        \n",
    "    def create_pytorch_dataset(self, path: str) -> Dataset:\n",
    "        X_data, y_data = self.load_data(path)\n",
    "        return self.CustomDataset(X_data, y_data)\n",
    "\n",
    "    class CustomDataset(Dataset):\n",
    "        def __init__(self, X_data, y_data):\n",
    "            self.X_data = X_data\n",
    "            self.y_data = y_data\n",
    "        \n",
    "        def __len__(self):\n",
    "            return len(self.X_data)\n",
    "        \n",
    "        def __getitem__(self, index):\n",
    "            return torch.tensor(self.X_data[index], dtype=torch.long), torch.tensor(self.y_data[index], dtype=torch.long)\n",
    "\n",
    "def create_dataLoader(dataset, batch_size=32, shuffle=True):\n",
    "    def collate_fn(batch):\n",
    "        inputs, labels = zip(*batch)\n",
    "        inputs = torch.stack(inputs).to(device)\n",
    "        labels = torch.tensor(labels, dtype=torch.long).to(device)\n",
    "        return inputs, labels\n",
    "\n",
    "    device = torch.device(\"cuda\" if torch.cuda.is_available() else \"cpu\")\n",
    "    dataloader = DataLoader(dataset, batch_size=batch_size, shuffle=shuffle, collate_fn=collate_fn)\n",
    "    return dataloader\n",
    "\n",
    "\n",
    "class LSTMAcceptor(nn.Module):\n",
    "    def __init__(self, vocab_size: int, embedding_dim: int, lstm_dim: int, hidden_dim: int, output_dim: int, n_layers: int, \n",
    "                 dropout: float, pad_idx: int):\n",
    "        super(LSTMAcceptor, self).__init__()\n",
    "\n",
    "        # Embedding layer\n",
    "        self.embedding = nn.Embedding(vocab_size, embedding_dim, padding_idx=pad_idx)\n",
    "\n",
    "        # LSTM layer\n",
    "        self.lstm = nn.LSTM(embedding_dim, lstm_dim, num_layers=n_layers, batch_first=True)\n",
    "\n",
    "        # Hidden layer\n",
    "        self.fc1 = nn.Linear(lstm_dim, hidden_dim)\n",
    "\n",
    "        # Output layer\n",
    "        self.fc2 = nn.Linear(hidden_dim, output_dim)\n",
    "\n",
    "    def forward(self, text):\n",
    "        # text = [batch size, sent len]\n",
    "        text_lengths = torch.sum(text != self.embedding.padding_idx, dim=1)\n",
    "        \n",
    "        # Pass text through embedding layer\n",
    "        embedded = self.embedding(text)\n",
    "\n",
    "        # Pack sequence before passing to the LSTM\n",
    "        packed_embedded = nn.utils.rnn.pack_padded_sequence(embedded, text_lengths.cpu(), batch_first=True, enforce_sorted=False)\n",
    "        \n",
    "        # Pass packed sequence into LSTM\n",
    "        packed_output, (hidden, _) = self.lstm(packed_embedded)\n",
    "        \n",
    "        # Unpack sequence\n",
    "        output, output_lengths = nn.utils.rnn.pad_packed_sequence(packed_output, batch_first=True)\n",
    "\n",
    "        # Get the last output for each sequence\n",
    "        output = output[torch.arange(output.size(0)), output_lengths-1, :]\n",
    "\n",
    "        # Pass output through the first fully connected layer and apply Tanh activation\n",
    "        dense_outputs = torch.tanh(self.fc1(output))\n",
    "\n",
    "        # Pass the results through the output layer\n",
    "        output = self.fc2(dense_outputs)\n",
    "        return output\n",
    "\n",
    "\n",
    "class Runner:\n",
    "    def __init__(self, train_dataset_path=TRAIN_1, test_dataset_path=TEST_1, base_dir=PREDS_1, vocab=['a', 'b', 'c', 'd'] + [str(i) for i in range(1, 10)], batch_size=16, learning_rate=0.001, embedding_dim=20, lstm_dim=32, hidden_dim=16, output_dim=2, n_layers=1, dropout=0):\n",
    "        device = torch.device(\"cuda\" if torch.cuda.is_available() else \"cpu\")\n",
    "        self.train_dataset_path = train_dataset_path\n",
    "        self.test_dataset_path = test_dataset_path\n",
    "        self.batch_size = batch_size\n",
    "        self.learning_rate = learning_rate\n",
    "        self.batch_size = batch_size\n",
    "        self.dataset = LanguageClassificationDataset(train_dataset_path, vocab=vocab)\n",
    "        self.train_set = self.dataset.create_pytorch_dataset(train_dataset_path)\n",
    "        self.test_set = self.dataset.create_pytorch_dataset(test_dataset_path)\n",
    "        \n",
    "        self.model = LSTMAcceptor(self.dataset.vocab_size(), embedding_dim, lstm_dim, hidden_dim, output_dim, n_layers, dropout, pad_idx=self.dataset.word_to_index('<PAD>')).to(device)\n",
    "        self.optimizer = Adam(self.model.parameters(), lr=learning_rate, weight_decay=1e-5)\\\n",
    "        \n",
    "        self.img_dir = os.path.join(base_dir, \"imgs\")\n",
    "        os.makedirs(self.img_dir, exist_ok=True)\n",
    "\n",
    "    def train(self, num_epochs):\n",
    "        self.train_loader = create_dataLoader(self.train_set, batch_size=self.batch_size, shuffle=True)\n",
    "        self.train_accs = []\n",
    "        self.train_losses = []\n",
    "\n",
    "        start_time = time()\n",
    "        for epoch in range(num_epochs):\n",
    "            running_loss = 0.0\n",
    "            correct = 0\n",
    "            total = 0\n",
    "            self.model.train()\n",
    "            for batch in self.train_loader:\n",
    "                inputs, labels = batch\n",
    "                self.optimizer.zero_grad()\n",
    "                outputs = self.model(inputs)\n",
    "                loss = F.cross_entropy(outputs, labels)\n",
    "                loss.backward()\n",
    "                self.optimizer.step()\n",
    "                running_loss += loss.item()\n",
    "                _, predicted = torch.max(outputs.data, 1)\n",
    "                total += labels.size(0)\n",
    "                correct += (predicted == labels).sum().item()\n",
    "                \n",
    "            train_acc = correct / total\n",
    "            train_loss = running_loss / len(self.train_loader)\n",
    "            self.train_accs.append(train_acc)\n",
    "            self.train_losses.append(train_loss)\n",
    "\n",
    "            print(f'Epoch {epoch + 1}/{num_epochs}: Train acc = {train_acc:.4f}, Train loss = {train_loss:.4f}')\n",
    "        end_time = time()\n",
    "        print(f'Training completed in {end_time - start_time} seconds.')\n",
    "        print(f'Number of iterations: {num_epochs * len(self.train_loader)}')\n",
    "\n",
    "    def evaluate(self):\n",
    "        self.test_loader = create_dataLoader(self.train_set, batch_size=self.batch_size, shuffle=True)\n",
    "        self.model.eval()\n",
    "        correct = 0\n",
    "        total = 0\n",
    "        with torch.no_grad():\n",
    "            for inputs, labels in self.test_loader:\n",
    "                outputs = self.model(inputs)\n",
    "                _, predicted = torch.max(outputs, 1)\n",
    "                total += labels.size(0)\n",
    "                correct += (predicted == labels).sum().item()\n",
    "                \n",
    "        self.test_accuracy = 100 * correct / total\n",
    "        print(f'Accuracy on test set: {self.test_accuracy}%')\n",
    "\n",
    "    def plot(self):\n",
    "        plt.figure(figsize=(10, 5))\n",
    "\n",
    "        plt.subplot(1, 2, 1)\n",
    "        plt.plot(self.train_losses, label='Train Loss')\n",
    "        plt.title('Loss during training')\n",
    "        plt.legend()\n",
    "\n",
    "        plt.subplot(1, 2, 2)\n",
    "        plt.plot(self.train_accs, label='Train Accuracy')\n",
    "        plt.title('Accuracy during training')\n",
    "        plt.legend()\n",
    "\n",
    "        plt.savefig(os.path.join(self.img_dir, \"training_plot.png\"))\n",
    "        plt.show()\n",
    "\n",
    "    def run(self, num_epoch=10):\n",
    "        self.train(num_epoch)\n",
    "        self.evaluate()\n",
    "        self.plot()\n"
   ]
  },
  {
   "cell_type": "code",
   "execution_count": 41,
   "metadata": {
    "colab": {
     "base_uri": "https://localhost:8080/",
     "height": 734
    },
    "id": "1kak0koHDOdF",
    "outputId": "c2d1c7f7-baaa-471d-9de8-7e288ff87023"
   },
   "outputs": [
    {
     "name": "stdout",
     "output_type": "stream",
     "text": [
      "Loaded EX3/data/1/train.csv Successfully.\n",
      "Loaded EX3/data/1/test.csv Successfully.\n",
      "Epoch 1/10: Train acc = 0.5138, Train loss = 0.6923\n",
      "Epoch 2/10: Train acc = 0.8850, Train loss = 0.3619\n",
      "Epoch 3/10: Train acc = 0.9587, Train loss = 0.1599\n",
      "Epoch 4/10: Train acc = 0.9819, Train loss = 0.0806\n",
      "Epoch 5/10: Train acc = 0.9919, Train loss = 0.0393\n",
      "Epoch 6/10: Train acc = 0.9975, Train loss = 0.0195\n",
      "Epoch 7/10: Train acc = 0.9988, Train loss = 0.0088\n",
      "Epoch 8/10: Train acc = 0.9981, Train loss = 0.0135\n",
      "Epoch 9/10: Train acc = 1.0000, Train loss = 0.0023\n",
      "Epoch 10/10: Train acc = 1.0000, Train loss = 0.0016\n",
      "Training completed in 5.473599433898926 seconds.\n",
      "Number of iterations: 1000\n",
      "Accuracy on test set: 100.0%\n"
     ]
    },
    {
     "data": {
      "image/png": "[encoded data removed]",
      "text/plain": [
       "<Figure size 1000x500 with 2 Axes>"
      ]
     },
     "metadata": {},
     "output_type": "display_data"
    }
   ],
   "source": [
    "experiment1 = Runner()\n",
    "experiment1.run()"
   ]
  },
  {
   "cell_type": "markdown",
   "metadata": {
    "id": "U6hpeQAzH6MQ"
   },
   "source": [
    "# Part 2"
   ]
  },
  {
   "cell_type": "code",
   "execution_count": 42,
   "metadata": {
    "id": "uTfLuIqFMKY1"
   },
   "outputs": [],
   "source": [
    "#@title part2.py\n",
    "import sympy\n",
    "import random\n",
    "\n",
    "def generate_prime_unary(lower, upper):\n",
    "    prime = sympy.randprime(lower, upper)\n",
    "    return '1' * prime\n",
    "\n",
    "def generate_nonprime_unary(lower, upper):\n",
    "    while True:\n",
    "        number = random.randint(lower, upper)\n",
    "        if not sympy.isprime(number):\n",
    "            return '1' * number\n",
    "\n",
    "\n",
    "def generate_dataset(path=DATA_2, num_examples=NUM_EXAMPLES):\n",
    "    pos_examples = [(str(example), 'POSITIVE') for example in [generate_prime_unary(0, 1000) for _ in range(num_examples)]]\n",
    "    neg_examples = [(str(example), 'NEGATIVE') for example in [generate_nonprime_unary(0, 1000) for _ in range(num_examples)]]\n",
    "    \n",
    "    # Shuffling examples\n",
    "    random.shuffle(pos_examples)\n",
    "    random.shuffle(neg_examples)\n",
    "    \n",
    "    # Combining pos and neg examples\n",
    "    examples = pos_examples + neg_examples\n",
    "    random.shuffle(examples)\n",
    "    \n",
    "    # Splitting into train and test sets (80-20 split)\n",
    "    split_index = int(0.8 * len(examples))\n",
    "    \n",
    "    train = examples[:split_index]\n",
    "    test = examples[split_index:]\n",
    "    \n",
    "    # Writing examples to CSV files\n",
    "    with open(os.path.join(path, 'train.csv'), mode='w', newline='') as f:\n",
    "        writer = csv.writer(f)\n",
    "        writer.writerow([\"Example\", \"Label\"])\n",
    "        for example in train:\n",
    "            writer.writerow(example)\n",
    "\n",
    "    with open(os.path.join(path, 'test.csv'), mode='w', newline='') as f:\n",
    "        writer = csv.writer(f)\n",
    "        writer.writerow([\"Example\", \"Label\"])\n",
    "        for example in test:\n",
    "            writer.writerow(example)\n",
    "\n",
    "generate_dataset()"
   ]
  },
  {
   "cell_type": "code",
   "execution_count": 43,
   "metadata": {
    "colab": {
     "base_uri": "https://localhost:8080/",
     "height": 1000
    },
    "id": "fnKE0uXIQ4WV",
    "outputId": "1118e731-6a41-4c42-c8be-3dd09cc0b7ee",
    "scrolled": true
   },
   "outputs": [
    {
     "name": "stdout",
     "output_type": "stream",
     "text": [
      "Loaded EX3/data/2/train.csv Successfully.\n",
      "Loaded EX3/data/2/test.csv Successfully.\n",
      "Epoch 1/300: Train acc = 0.5078, Train loss = 0.6953\n",
      "Epoch 2/300: Train acc = 0.4934, Train loss = 0.6942\n",
      "Epoch 3/300: Train acc = 0.5009, Train loss = 0.6934\n",
      "Epoch 4/300: Train acc = 0.4897, Train loss = 0.6938\n",
      "Epoch 5/300: Train acc = 0.5072, Train loss = 0.6934\n",
      "Epoch 6/300: Train acc = 0.5072, Train loss = 0.6933\n",
      "Epoch 7/300: Train acc = 0.5041, Train loss = 0.6948\n",
      "Epoch 8/300: Train acc = 0.5097, Train loss = 0.6933\n",
      "Epoch 9/300: Train acc = 0.5072, Train loss = 0.6932\n",
      "Epoch 10/300: Train acc = 0.5072, Train loss = 0.6933\n",
      "Epoch 11/300: Train acc = 0.5072, Train loss = 0.6931\n",
      "Epoch 12/300: Train acc = 0.5072, Train loss = 0.6932\n",
      "Epoch 13/300: Train acc = 0.5072, Train loss = 0.6935\n",
      "Epoch 14/300: Train acc = 0.4797, Train loss = 0.6936\n",
      "Epoch 15/300: Train acc = 0.5072, Train loss = 0.6933\n",
      "Epoch 16/300: Train acc = 0.4947, Train loss = 0.6934\n",
      "Epoch 17/300: Train acc = 0.5072, Train loss = 0.6935\n",
      "Epoch 18/300: Train acc = 0.5009, Train loss = 0.6932\n",
      "Epoch 19/300: Train acc = 0.5072, Train loss = 0.6933\n",
      "Epoch 20/300: Train acc = 0.5072, Train loss = 0.6932\n",
      "Epoch 21/300: Train acc = 0.5072, Train loss = 0.6934\n",
      "Epoch 22/300: Train acc = 0.5072, Train loss = 0.6934\n",
      "Epoch 23/300: Train acc = 0.5072, Train loss = 0.6932\n",
      "Epoch 24/300: Train acc = 0.5072, Train loss = 0.6934\n",
      "Epoch 25/300: Train acc = 0.4922, Train loss = 0.6935\n",
      "Epoch 26/300: Train acc = 0.5072, Train loss = 0.6937\n",
      "Epoch 27/300: Train acc = 0.5072, Train loss = 0.6932\n",
      "Epoch 28/300: Train acc = 0.5072, Train loss = 0.6932\n",
      "Epoch 29/300: Train acc = 0.5072, Train loss = 0.6933\n",
      "Epoch 30/300: Train acc = 0.4897, Train loss = 0.6935\n",
      "Epoch 31/300: Train acc = 0.5072, Train loss = 0.6933\n",
      "Epoch 32/300: Train acc = 0.5072, Train loss = 0.6932\n",
      "Epoch 33/300: Train acc = 0.5072, Train loss = 0.6932\n",
      "Epoch 34/300: Train acc = 0.5072, Train loss = 0.6931\n",
      "Epoch 35/300: Train acc = 0.5072, Train loss = 0.6931\n",
      "Epoch 36/300: Train acc = 0.5072, Train loss = 0.6932\n",
      "Epoch 37/300: Train acc = 0.5072, Train loss = 0.6931\n",
      "Epoch 38/300: Train acc = 0.5072, Train loss = 0.6933\n",
      "Epoch 39/300: Train acc = 0.5072, Train loss = 0.6933\n",
      "Epoch 40/300: Train acc = 0.4922, Train loss = 0.6936\n",
      "Epoch 41/300: Train acc = 0.5072, Train loss = 0.6932\n",
      "Epoch 42/300: Train acc = 0.5072, Train loss = 0.6932\n",
      "Epoch 43/300: Train acc = 0.5072, Train loss = 0.6933\n",
      "Epoch 44/300: Train acc = 0.5072, Train loss = 0.6931\n",
      "Epoch 45/300: Train acc = 0.5072, Train loss = 0.6932\n",
      "Epoch 46/300: Train acc = 0.5072, Train loss = 0.6932\n",
      "Epoch 47/300: Train acc = 0.5072, Train loss = 0.6933\n",
      "Epoch 48/300: Train acc = 0.4953, Train loss = 0.6933\n",
      "Epoch 49/300: Train acc = 0.5072, Train loss = 0.6931\n",
      "Epoch 50/300: Train acc = 0.5072, Train loss = 0.6933\n",
      "Epoch 51/300: Train acc = 0.5072, Train loss = 0.6932\n",
      "Epoch 52/300: Train acc = 0.5072, Train loss = 0.6932\n",
      "Epoch 53/300: Train acc = 0.5072, Train loss = 0.6932\n",
      "Epoch 54/300: Train acc = 0.5072, Train loss = 0.6932\n",
      "Epoch 55/300: Train acc = 0.5072, Train loss = 0.6932\n",
      "Epoch 56/300: Train acc = 0.5072, Train loss = 0.6933\n",
      "Epoch 57/300: Train acc = 0.5072, Train loss = 0.6931\n",
      "Epoch 58/300: Train acc = 0.5072, Train loss = 0.6932\n",
      "Epoch 59/300: Train acc = 0.5072, Train loss = 0.6931\n",
      "Epoch 60/300: Train acc = 0.5072, Train loss = 0.6932\n",
      "Epoch 61/300: Train acc = 0.5072, Train loss = 0.6932\n",
      "Epoch 62/300: Train acc = 0.5072, Train loss = 0.6932\n",
      "Epoch 63/300: Train acc = 0.5072, Train loss = 0.6932\n",
      "Epoch 64/300: Train acc = 0.5072, Train loss = 0.6932\n",
      "Epoch 65/300: Train acc = 0.5072, Train loss = 0.6931\n",
      "Epoch 66/300: Train acc = 0.5072, Train loss = 0.6931\n",
      "Epoch 67/300: Train acc = 0.5072, Train loss = 0.6932\n",
      "Epoch 68/300: Train acc = 0.5072, Train loss = 0.6933\n",
      "Epoch 69/300: Train acc = 0.5072, Train loss = 0.6932\n",
      "Epoch 70/300: Train acc = 0.5072, Train loss = 0.6931\n",
      "Epoch 71/300: Train acc = 0.5072, Train loss = 0.6931\n",
      "Epoch 72/300: Train acc = 0.5072, Train loss = 0.6931\n",
      "Epoch 73/300: Train acc = 0.5072, Train loss = 0.6931\n",
      "Epoch 74/300: Train acc = 0.5072, Train loss = 0.6931\n",
      "Epoch 75/300: Train acc = 0.5072, Train loss = 0.6931\n",
      "Epoch 76/300: Train acc = 0.5072, Train loss = 0.6933\n",
      "Epoch 77/300: Train acc = 0.5072, Train loss = 0.6934\n",
      "Epoch 78/300: Train acc = 0.5072, Train loss = 0.6931\n",
      "Epoch 79/300: Train acc = 0.5072, Train loss = 0.6931\n",
      "Epoch 80/300: Train acc = 0.5072, Train loss = 0.6934\n",
      "Epoch 81/300: Train acc = 0.5072, Train loss = 0.6935\n",
      "Epoch 82/300: Train acc = 0.4834, Train loss = 0.6935\n",
      "Epoch 83/300: Train acc = 0.5072, Train loss = 0.6932\n",
      "Epoch 84/300: Train acc = 0.5072, Train loss = 0.6932\n",
      "Epoch 85/300: Train acc = 0.5072, Train loss = 0.6932\n",
      "Epoch 86/300: Train acc = 0.5072, Train loss = 0.6931\n",
      "Epoch 87/300: Train acc = 0.5072, Train loss = 0.6931\n",
      "Epoch 88/300: Train acc = 0.5072, Train loss = 0.6932\n",
      "Epoch 89/300: Train acc = 0.5072, Train loss = 0.6932\n",
      "Epoch 90/300: Train acc = 0.5072, Train loss = 0.6931\n",
      "Epoch 91/300: Train acc = 0.5072, Train loss = 0.6931\n",
      "Epoch 92/300: Train acc = 0.5072, Train loss = 0.6931\n",
      "Epoch 93/300: Train acc = 0.5072, Train loss = 0.6932\n",
      "Epoch 94/300: Train acc = 0.5072, Train loss = 0.6931\n",
      "Epoch 95/300: Train acc = 0.5072, Train loss = 0.6933\n",
      "Epoch 96/300: Train acc = 0.5072, Train loss = 0.6931\n",
      "Epoch 97/300: Train acc = 0.5072, Train loss = 0.6932\n",
      "Epoch 98/300: Train acc = 0.5072, Train loss = 0.6933\n",
      "Epoch 99/300: Train acc = 0.5072, Train loss = 0.6932\n",
      "Epoch 100/300: Train acc = 0.5072, Train loss = 0.6933\n",
      "Epoch 101/300: Train acc = 0.5072, Train loss = 0.6933\n",
      "Epoch 102/300: Train acc = 0.5003, Train loss = 0.6932\n",
      "Epoch 103/300: Train acc = 0.5072, Train loss = 0.6932\n",
      "Epoch 104/300: Train acc = 0.5072, Train loss = 0.6933\n",
      "Epoch 105/300: Train acc = 0.5072, Train loss = 0.6931\n",
      "Epoch 106/300: Train acc = 0.5072, Train loss = 0.6931\n",
      "Epoch 107/300: Train acc = 0.5072, Train loss = 0.6931\n",
      "Epoch 108/300: Train acc = 0.5072, Train loss = 0.6931\n",
      "Epoch 109/300: Train acc = 0.5072, Train loss = 0.6933\n",
      "Epoch 110/300: Train acc = 0.5072, Train loss = 0.6931\n",
      "Epoch 111/300: Train acc = 0.5072, Train loss = 0.6933\n",
      "Epoch 112/300: Train acc = 0.5072, Train loss = 0.6931\n",
      "Epoch 113/300: Train acc = 0.5072, Train loss = 0.6932\n",
      "Epoch 114/300: Train acc = 0.5072, Train loss = 0.6932\n",
      "Epoch 115/300: Train acc = 0.4797, Train loss = 0.6933\n",
      "Epoch 116/300: Train acc = 0.5072, Train loss = 0.6931\n",
      "Epoch 117/300: Train acc = 0.5072, Train loss = 0.6932\n",
      "Epoch 118/300: Train acc = 0.5072, Train loss = 0.6931\n",
      "Epoch 119/300: Train acc = 0.5072, Train loss = 0.6931\n",
      "Epoch 120/300: Train acc = 0.5072, Train loss = 0.6931\n",
      "Epoch 121/300: Train acc = 0.5072, Train loss = 0.6931\n",
      "Epoch 122/300: Train acc = 0.5072, Train loss = 0.6932\n",
      "Epoch 123/300: Train acc = 0.5072, Train loss = 0.6932\n",
      "Epoch 124/300: Train acc = 0.5072, Train loss = 0.6931\n",
      "Epoch 125/300: Train acc = 0.5072, Train loss = 0.6931\n",
      "Epoch 126/300: Train acc = 0.5072, Train loss = 0.6932\n",
      "Epoch 127/300: Train acc = 0.5072, Train loss = 0.6931\n",
      "Epoch 128/300: Train acc = 0.5072, Train loss = 0.6932\n",
      "Epoch 129/300: Train acc = 0.5072, Train loss = 0.6931\n",
      "Epoch 130/300: Train acc = 0.5072, Train loss = 0.6931\n",
      "Epoch 131/300: Train acc = 0.5072, Train loss = 0.6932\n",
      "Epoch 132/300: Train acc = 0.5072, Train loss = 0.6932\n",
      "Epoch 133/300: Train acc = 0.5072, Train loss = 0.6931\n",
      "Epoch 134/300: Train acc = 0.5072, Train loss = 0.6931\n",
      "Epoch 135/300: Train acc = 0.5072, Train loss = 0.6931\n",
      "Epoch 136/300: Train acc = 0.5072, Train loss = 0.6931\n",
      "Epoch 137/300: Train acc = 0.5072, Train loss = 0.6932\n",
      "Epoch 138/300: Train acc = 0.5072, Train loss = 0.6932\n",
      "Epoch 139/300: Train acc = 0.5072, Train loss = 0.6932\n",
      "Epoch 140/300: Train acc = 0.5072, Train loss = 0.6932\n",
      "Epoch 141/300: Train acc = 0.5072, Train loss = 0.6931\n",
      "Epoch 142/300: Train acc = 0.5072, Train loss = 0.6932\n",
      "Epoch 143/300: Train acc = 0.5072, Train loss = 0.6931\n",
      "Epoch 144/300: Train acc = 0.5072, Train loss = 0.6931\n",
      "Epoch 145/300: Train acc = 0.5072, Train loss = 0.6931\n",
      "Epoch 146/300: Train acc = 0.5072, Train loss = 0.6931\n",
      "Epoch 147/300: Train acc = 0.5072, Train loss = 0.6932\n",
      "Epoch 148/300: Train acc = 0.5072, Train loss = 0.6931\n",
      "Epoch 149/300: Train acc = 0.5072, Train loss = 0.6931\n",
      "Epoch 150/300: Train acc = 0.5072, Train loss = 0.6931\n",
      "Epoch 151/300: Train acc = 0.5072, Train loss = 0.6932\n",
      "Epoch 152/300: Train acc = 0.5072, Train loss = 0.6931\n",
      "Epoch 153/300: Train acc = 0.5072, Train loss = 0.6932\n",
      "Epoch 154/300: Train acc = 0.5072, Train loss = 0.6932\n",
      "Epoch 155/300: Train acc = 0.5072, Train loss = 0.6932\n",
      "Epoch 156/300: Train acc = 0.5072, Train loss = 0.6931\n",
      "Epoch 157/300: Train acc = 0.5072, Train loss = 0.6931\n",
      "Epoch 158/300: Train acc = 0.5072, Train loss = 0.6931\n",
      "Epoch 159/300: Train acc = 0.5072, Train loss = 0.6931\n",
      "Epoch 160/300: Train acc = 0.5072, Train loss = 0.6932\n",
      "Epoch 161/300: Train acc = 0.5072, Train loss = 0.6931\n",
      "Epoch 162/300: Train acc = 0.5072, Train loss = 0.6932\n",
      "Epoch 163/300: Train acc = 0.5072, Train loss = 0.6931\n",
      "Epoch 164/300: Train acc = 0.5072, Train loss = 0.6932\n",
      "Epoch 165/300: Train acc = 0.5072, Train loss = 0.6931\n",
      "Epoch 166/300: Train acc = 0.5072, Train loss = 0.6931\n",
      "Epoch 167/300: Train acc = 0.5072, Train loss = 0.6931\n",
      "Epoch 168/300: Train acc = 0.5072, Train loss = 0.6931\n",
      "Epoch 169/300: Train acc = 0.5072, Train loss = 0.6931\n",
      "Epoch 170/300: Train acc = 0.5072, Train loss = 0.6931\n",
      "Epoch 171/300: Train acc = 0.5072, Train loss = 0.6931\n",
      "Epoch 172/300: Train acc = 0.5072, Train loss = 0.6932\n",
      "Epoch 173/300: Train acc = 0.5072, Train loss = 0.6931\n",
      "Epoch 174/300: Train acc = 0.5072, Train loss = 0.6931\n",
      "Epoch 175/300: Train acc = 0.5072, Train loss = 0.6931\n",
      "Epoch 176/300: Train acc = 0.5072, Train loss = 0.6932\n",
      "Epoch 177/300: Train acc = 0.5072, Train loss = 0.6931\n",
      "Epoch 178/300: Train acc = 0.5072, Train loss = 0.6932\n",
      "Epoch 179/300: Train acc = 0.5072, Train loss = 0.6931\n",
      "Epoch 180/300: Train acc = 0.5072, Train loss = 0.6931\n",
      "Epoch 181/300: Train acc = 0.5072, Train loss = 0.6932\n",
      "Epoch 182/300: Train acc = 0.5072, Train loss = 0.6933\n",
      "Epoch 183/300: Train acc = 0.5072, Train loss = 0.6931\n",
      "Epoch 184/300: Train acc = 0.5072, Train loss = 0.6931\n",
      "Epoch 185/300: Train acc = 0.5072, Train loss = 0.6931\n",
      "Epoch 186/300: Train acc = 0.5072, Train loss = 0.6931\n",
      "Epoch 187/300: Train acc = 0.5072, Train loss = 0.6932\n",
      "Epoch 188/300: Train acc = 0.5072, Train loss = 0.6931\n",
      "Epoch 189/300: Train acc = 0.5072, Train loss = 0.6931\n",
      "Epoch 190/300: Train acc = 0.5072, Train loss = 0.6931\n",
      "Epoch 191/300: Train acc = 0.5072, Train loss = 0.6931\n",
      "Epoch 192/300: Train acc = 0.5072, Train loss = 0.6931\n",
      "Epoch 193/300: Train acc = 0.5072, Train loss = 0.6931\n",
      "Epoch 194/300: Train acc = 0.5072, Train loss = 0.6931\n",
      "Epoch 195/300: Train acc = 0.5072, Train loss = 0.6931\n",
      "Epoch 196/300: Train acc = 0.5072, Train loss = 0.6931\n",
      "Epoch 197/300: Train acc = 0.5072, Train loss = 0.6931\n",
      "Epoch 198/300: Train acc = 0.5072, Train loss = 0.6931\n",
      "Epoch 199/300: Train acc = 0.5072, Train loss = 0.6931\n",
      "Epoch 200/300: Train acc = 0.5072, Train loss = 0.6932\n",
      "Epoch 201/300: Train acc = 0.5072, Train loss = 0.6931\n",
      "Epoch 202/300: Train acc = 0.5072, Train loss = 0.6931\n",
      "Epoch 203/300: Train acc = 0.5072, Train loss = 0.6931\n",
      "Epoch 204/300: Train acc = 0.5072, Train loss = 0.6931\n",
      "Epoch 205/300: Train acc = 0.5072, Train loss = 0.6933\n",
      "Epoch 206/300: Train acc = 0.5072, Train loss = 0.6931\n",
      "Epoch 207/300: Train acc = 0.5072, Train loss = 0.6932\n",
      "Epoch 208/300: Train acc = 0.5072, Train loss = 0.6931\n",
      "Epoch 209/300: Train acc = 0.5072, Train loss = 0.6931\n",
      "Epoch 210/300: Train acc = 0.5072, Train loss = 0.6931\n",
      "Epoch 211/300: Train acc = 0.5072, Train loss = 0.6932\n",
      "Epoch 212/300: Train acc = 0.5072, Train loss = 0.6931\n",
      "Epoch 213/300: Train acc = 0.5072, Train loss = 0.6933\n",
      "Epoch 214/300: Train acc = 0.5072, Train loss = 0.6931\n",
      "Epoch 215/300: Train acc = 0.5072, Train loss = 0.6931\n",
      "Epoch 216/300: Train acc = 0.5072, Train loss = 0.6931\n",
      "Epoch 217/300: Train acc = 0.5072, Train loss = 0.6931\n",
      "Epoch 218/300: Train acc = 0.5072, Train loss = 0.6932\n",
      "Epoch 219/300: Train acc = 0.5072, Train loss = 0.6931\n",
      "Epoch 220/300: Train acc = 0.5072, Train loss = 0.6932\n",
      "Epoch 221/300: Train acc = 0.5072, Train loss = 0.6931\n",
      "Epoch 222/300: Train acc = 0.5072, Train loss = 0.6931\n",
      "Epoch 223/300: Train acc = 0.5072, Train loss = 0.6931\n",
      "Epoch 224/300: Train acc = 0.5072, Train loss = 0.6932\n",
      "Epoch 225/300: Train acc = 0.5072, Train loss = 0.6931\n",
      "Epoch 226/300: Train acc = 0.5072, Train loss = 0.6931\n",
      "Epoch 227/300: Train acc = 0.5072, Train loss = 0.6931\n",
      "Epoch 228/300: Train acc = 0.5072, Train loss = 0.6933\n",
      "Epoch 229/300: Train acc = 0.5072, Train loss = 0.6932\n",
      "Epoch 230/300: Train acc = 0.5072, Train loss = 0.6931\n",
      "Epoch 231/300: Train acc = 0.5072, Train loss = 0.6931\n",
      "Epoch 232/300: Train acc = 0.5072, Train loss = 0.6931\n",
      "Epoch 233/300: Train acc = 0.5072, Train loss = 0.6931\n",
      "Epoch 234/300: Train acc = 0.5072, Train loss = 0.6931\n",
      "Epoch 235/300: Train acc = 0.5072, Train loss = 0.6932\n",
      "Epoch 236/300: Train acc = 0.5072, Train loss = 0.6931\n",
      "Epoch 237/300: Train acc = 0.5072, Train loss = 0.6931\n",
      "Epoch 238/300: Train acc = 0.5072, Train loss = 0.6932\n",
      "Epoch 239/300: Train acc = 0.5072, Train loss = 0.6931\n",
      "Epoch 240/300: Train acc = 0.5072, Train loss = 0.6931\n",
      "Epoch 241/300: Train acc = 0.5072, Train loss = 0.6932\n",
      "Epoch 242/300: Train acc = 0.5072, Train loss = 0.6932\n",
      "Epoch 243/300: Train acc = 0.5072, Train loss = 0.6931\n",
      "Epoch 244/300: Train acc = 0.5072, Train loss = 0.6931\n",
      "Epoch 245/300: Train acc = 0.5072, Train loss = 0.6932\n",
      "Epoch 246/300: Train acc = 0.5072, Train loss = 0.6932\n",
      "Epoch 247/300: Train acc = 0.5072, Train loss = 0.6931\n",
      "Epoch 248/300: Train acc = 0.5072, Train loss = 0.6931\n",
      "Epoch 249/300: Train acc = 0.5072, Train loss = 0.6932\n",
      "Epoch 250/300: Train acc = 0.5072, Train loss = 0.6931\n",
      "Epoch 251/300: Train acc = 0.5072, Train loss = 0.6931\n",
      "Epoch 252/300: Train acc = 0.5072, Train loss = 0.6933\n",
      "Epoch 253/300: Train acc = 0.5022, Train loss = 0.6933\n",
      "Epoch 254/300: Train acc = 0.5072, Train loss = 0.6931\n",
      "Epoch 255/300: Train acc = 0.5072, Train loss = 0.6932\n",
      "Epoch 256/300: Train acc = 0.5072, Train loss = 0.6931\n",
      "Epoch 257/300: Train acc = 0.5072, Train loss = 0.6932\n",
      "Epoch 258/300: Train acc = 0.5072, Train loss = 0.6931\n",
      "Epoch 259/300: Train acc = 0.5072, Train loss = 0.6932\n",
      "Epoch 260/300: Train acc = 0.5072, Train loss = 0.6931\n",
      "Epoch 261/300: Train acc = 0.5072, Train loss = 0.6931\n",
      "Epoch 262/300: Train acc = 0.5072, Train loss = 0.6931\n",
      "Epoch 263/300: Train acc = 0.5072, Train loss = 0.6931\n",
      "Epoch 264/300: Train acc = 0.5072, Train loss = 0.6931\n",
      "Epoch 265/300: Train acc = 0.5072, Train loss = 0.6931\n",
      "Epoch 266/300: Train acc = 0.5072, Train loss = 0.6931\n",
      "Epoch 267/300: Train acc = 0.5072, Train loss = 0.6931\n",
      "Epoch 268/300: Train acc = 0.5072, Train loss = 0.6932\n",
      "Epoch 269/300: Train acc = 0.5072, Train loss = 0.6932\n",
      "Epoch 270/300: Train acc = 0.5072, Train loss = 0.6931\n",
      "Epoch 271/300: Train acc = 0.5072, Train loss = 0.6931\n",
      "Epoch 272/300: Train acc = 0.5072, Train loss = 0.6931\n",
      "Epoch 273/300: Train acc = 0.5072, Train loss = 0.6931\n",
      "Epoch 274/300: Train acc = 0.5072, Train loss = 0.6931\n",
      "Epoch 275/300: Train acc = 0.5072, Train loss = 0.6931\n",
      "Epoch 276/300: Train acc = 0.5072, Train loss = 0.6931\n",
      "Epoch 277/300: Train acc = 0.5072, Train loss = 0.6931\n",
      "Epoch 278/300: Train acc = 0.5072, Train loss = 0.6931\n",
      "Epoch 279/300: Train acc = 0.5072, Train loss = 0.6932\n",
      "Epoch 280/300: Train acc = 0.5072, Train loss = 0.6931\n",
      "Epoch 281/300: Train acc = 0.5072, Train loss = 0.6931\n",
      "Epoch 282/300: Train acc = 0.5072, Train loss = 0.6931\n",
      "Epoch 283/300: Train acc = 0.5072, Train loss = 0.6931\n",
      "Epoch 284/300: Train acc = 0.5072, Train loss = 0.6931\n",
      "Epoch 285/300: Train acc = 0.5072, Train loss = 0.6932\n",
      "Epoch 286/300: Train acc = 0.5072, Train loss = 0.6932\n",
      "Epoch 287/300: Train acc = 0.5072, Train loss = 0.6932\n",
      "Epoch 288/300: Train acc = 0.5072, Train loss = 0.6932\n",
      "Epoch 289/300: Train acc = 0.5072, Train loss = 0.6931\n",
      "Epoch 290/300: Train acc = 0.5072, Train loss = 0.6931\n",
      "Epoch 291/300: Train acc = 0.5072, Train loss = 0.6931\n",
      "Epoch 292/300: Train acc = 0.5072, Train loss = 0.6931\n",
      "Epoch 293/300: Train acc = 0.5072, Train loss = 0.6931\n",
      "Epoch 294/300: Train acc = 0.5072, Train loss = 0.6931\n",
      "Epoch 295/300: Train acc = 0.5072, Train loss = 0.6932\n",
      "Epoch 296/300: Train acc = 0.5072, Train loss = 0.6932\n",
      "Epoch 297/300: Train acc = 0.5072, Train loss = 0.6931\n",
      "Epoch 298/300: Train acc = 0.5072, Train loss = 0.6931\n",
      "Epoch 299/300: Train acc = 0.5072, Train loss = 0.6932\n",
      "Epoch 300/300: Train acc = 0.5072, Train loss = 0.6932\n",
      "Training completed in 436.7093505859375 seconds.\n",
      "Number of iterations: 15000\n",
      "Accuracy on test set: 50.719199499687306%\n"
     ]
    },
    {
     "data": {
      "image/png": "[encoded data removed]",
      "text/plain": [
       "<Figure size 1000x500 with 2 Axes>"
      ]
     },
     "metadata": {},
     "output_type": "display_data"
    }
   ],
   "source": [
    "experiment1 = Runner(train_dataset_path=TRAIN_2, test_dataset_path=TEST_2, base_dir=PREDS_2, vocab=['1'], batch_size=32, learning_rate=0.001, embedding_dim=10, lstm_dim=64, hidden_dim=32, output_dim=2, n_layers=1, dropout=0)\n",
    "experiment1.run(300)"
   ]
  },
  {
   "cell_type": "markdown",
   "metadata": {
    "id": "Aeb1WccXo3d5"
   },
   "source": [
    "# Part 3"
   ]
  },
  {
   "cell_type": "markdown",
   "metadata": {
    "id": "Aeb1WccXo3d5"
   },
   "source": [
    "## Utilities"
   ]
  },
  {
   "cell_type": "markdown",
   "metadata": {
    "id": "Aeb1WccXo3d5"
   },
   "source": [
    "### Download POS/NER/Embedding Data"
   ]
  },
  {
   "cell_type": "code",
   "execution_count": 5,
   "metadata": {
    "cellView": "form",
    "id": "zkZM-rqyKfqF"
   },
   "outputs": [],
   "source": [
    "#@title Download Data:\n",
    "\n",
    "import os\n",
    "import tarfile\n",
    "import urllib.request\n",
    "\n",
    "def download_POS_data(url='https://u.cs.biu.ac.il/~89-687/ass2/pos.tgz', target_folder=DATA_3):\n",
    "    # Create target folder if it doesn't exist\n",
    "    if not os.path.exists(target_folder):\n",
    "        os.makedirs(target_folder)\n",
    "\n",
    "    # Download the file\n",
    "    file_name = os.path.join(target_folder, 'pos.tgz')\n",
    "    urllib.request.urlretrieve(url, file_name)\n",
    "\n",
    "    # Extract the file\n",
    "    with tarfile.open(file_name, 'r:gz') as tar:\n",
    "        tar.extractall(target_folder)\n",
    "\n",
    "    # Return the path to the extracted folder\n",
    "    extracted_folder = os.path.join(target_folder, 'pos')\n",
    "    return extracted_folder\n",
    "\n",
    "def download_NER_data(url='https://u.cs.biu.ac.il/~89-687/ass2/ner.tgz', target_folder=DATA_3):\n",
    "    # Create target folder if it doesn't exist\n",
    "    if not os.path.exists(target_folder):\n",
    "        os.makedirs(target_folder)\n",
    "\n",
    "    # Download the file\n",
    "    file_name = os.path.join(target_folder, 'ner.tgz')\n",
    "    urllib.request.urlretrieve(url, file_name)\n",
    "\n",
    "    # Extract the file\n",
    "    with tarfile.open(file_name, 'r:gz') as tar:\n",
    "        tar.extractall(target_folder)\n",
    "\n",
    "    # Return the path to the extracted folder\n",
    "    extracted_folder = os.path.join(target_folder, 'ner')\n",
    "    return extracted_folder\n",
    "\n",
    "\n",
    "def download_wordembedding(url_embedding='https://u.cs.biu.ac.il/~89-687/ass2/wordVectors.txt', url_vocab='https://u.cs.biu.ac.il/~89-687/ass2/vocab.txt', target_folder=DATA_3):\n",
    "    # Create target folder if it doesn't exist\n",
    "    if not os.path.exists(target_folder):\n",
    "        os.makedirs(target_folder)\n",
    "\n",
    "    # Create embedding folder if it doesn't exist\n",
    "    embedding_folder = os.path.join(target_folder, 'embedding')\n",
    "    if not os.path.exists(embedding_folder):\n",
    "        os.makedirs(embedding_folder)\n",
    "\n",
    "    # Download the embedding file\n",
    "    file_name_embedding = os.path.join(embedding_folder, 'embedding.txt')\n",
    "    urllib.request.urlretrieve(url_embedding, file_name_embedding)\n",
    "\n",
    "    # Download the vocab file\n",
    "    file_name_vocab = os.path.join(embedding_folder, 'vocab.txt')\n",
    "    urllib.request.urlretrieve(url_vocab, file_name_vocab)\n",
    "\n",
    "    # Return the path to the embedding folder\n",
    "    return embedding_folder\n",
    "\n",
    "\n",
    "pos_data_path = download_POS_data()\n",
    "ner_data_path = download_NER_data()\n",
    "embedding_data_path = download_wordembedding()"
   ]
  },
  {
   "cell_type": "markdown",
   "metadata": {
    "id": "Aeb1WccXo3d5"
   },
   "source": [
    "### Datasets Wrappers"
   ]
  },
  {
   "cell_type": "code",
   "execution_count": 6,
   "metadata": {},
   "outputs": [],
   "source": [
    "#@title experiment.py\n",
    "import torch\n",
    "from torch import nn\n",
    "from torch.nn.utils.rnn import pad_sequence\n",
    "from torch.utils.data import Dataset, DataLoader\n",
    "import pandas as pd\n",
    "from collections import defaultdict\n",
    "import os\n",
    "import torch\n",
    "from torch.utils.data import DataLoader\n",
    "from torch.utils.tensorboard import SummaryWriter\n",
    "from torch.optim import Adam\n",
    "from torch.optim.lr_scheduler import StepLR\n",
    "from time import time\n",
    "import matplotlib.pyplot as plt\n",
    "from typing import List, Tuple\n",
    "import pandas as pd\n",
    "import re\n",
    "import torch.nn.functional as F\n",
    "\n",
    "\n",
    "import torch\n",
    "from torch.utils.data import Dataset\n",
    "\n",
    "class BaseDatabase():\n",
    "    \"\"\"\n",
    "    Abstract class representing a Custom Database\n",
    "    \"\"\"\n",
    "    def __init__(self, padding_token: str = \"<PAD>\", unknown_token: str = \"<UNK>\", vocab = []):\n",
    "        self.padding_token = padding_token\n",
    "        self.unknown_token = unknown_token\n",
    "        self.w2i = defaultdict(lambda: self.w2i[unknown_token])  # Word to index\n",
    "        self.i2w = {}  # Index to word\n",
    "        self.l2i = defaultdict(int)  # Label to index\n",
    "        self.i2l = {}  # Index to label\n",
    "        self.max_seq_len = 0  # Max sequence length\n",
    "        self.vocab = vocab  # Vocabulary\n",
    "\n",
    "    def load_data(self) -> Tuple[List[str], List[str]]:\n",
    "        \"\"\"\n",
    "        Abstract method to load data and labels\n",
    "        \"\"\"\n",
    "        raise NotImplementedError(\"Please implement this method to load data and labels.\")\n",
    "\n",
    "    def build_vocab(self):\n",
    "        \"\"\"\n",
    "        Abstract method to build vocabulary\n",
    "        \"\"\"\n",
    "        raise NotImplementedError(\"Please implement this method to build vocabulary.\")\n",
    "        \n",
    "    def build_mappings(self):\n",
    "        \"\"\"\n",
    "        Abstract method to build mappings\n",
    "        \"\"\"\n",
    "        raise NotImplementedError(\"Please implement this method to build mappings.\")\n",
    "\n",
    "    def word_to_index(self, word: str) -> int:\n",
    "        \"\"\"\n",
    "        Abstract method to transform word to index\n",
    "        \"\"\"\n",
    "        raise NotImplementedError(\"Please implement this method to transform word to index.\")\n",
    "        \n",
    "    def label_to_index(self, label: str) -> int:\n",
    "        \"\"\"\n",
    "        Abstract method to transform label to index\n",
    "        \"\"\"\n",
    "        raise NotImplementedError(\"Please implement this method to transform label to index.\")\n",
    "\n",
    "    def vocab_size(self):\n",
    "        return len(self.vocab)\n",
    "\n",
    "    def labels_size(self):\n",
    "        return len(self.labels)\n",
    "        \n",
    "class LanguageClassificationDataset(BaseDatabase):\n",
    "    \"\"\"\n",
    "    A class used to load and preprocess Language Classification Dataset\n",
    "    \"\"\"\n",
    "    def __init__(self, filepath: str, vocab=['a', 'b', 'c', 'd'] + [str(i) for i in range(1, 10)], padding_token: str = \"<PAD>\", unknown_token: str = \"<UNK>\", MAX_SEQ_LEN=MAX_SEQ_LEN):\n",
    "        self.vocab = [padding_token, unknown_token] + vocab\n",
    "        self.labels = ['POSITIVE', 'NEGATIVE']  # binary labels\n",
    "        self.filepath = filepath\n",
    "        self.MAX_SEQ_LEN = MAX_SEQ_LEN \n",
    "        super().__init__(padding_token, unknown_token, vocab=self.vocab)\n",
    "        self.build_vocab()\n",
    "        self.build_mappings()\n",
    "\n",
    "    def pad_sequence(self, sequence: str) -> List[int]:\n",
    "        \"\"\"\n",
    "        Pads a sequence to the length of 9 * MAX_SEQ_LEN\n",
    "        \"\"\"\n",
    "        words = [word for word in sequence]\n",
    "        if len(words) > self.MAX_SEQ_LEN:\n",
    "            raise ValueError(\"Sequence length is greater than 9 * MAX_SEQ_LEN\")\n",
    "        \n",
    "        # Pad the sequence with the padding token\n",
    "        words += [self.padding_token] * (self.MAX_SEQ_LEN - len(words))\n",
    "        # Convert words to indices\n",
    "        return [self.word_to_index(word) for word in words]\n",
    "\n",
    "    def load_data(self, path) -> Tuple[List[List[str]], List[str]]:\n",
    "        \"\"\"\n",
    "        Loads data and labels from a CSV file, and pads the data sequences\n",
    "        \"\"\"\n",
    "        try:\n",
    "            df = pd.read_csv(path)\n",
    "            df.dropna(inplace=True)\n",
    "            df['Example'] = df['Example'].astype(str)\n",
    "            df['Label'] = df['Label'].astype(str)\n",
    "            self.MAX_SEQ_LEN = max([len(seq) for seq in df['Example'].values])\n",
    "            X = [self.pad_sequence(seq) for seq in df['Example'].values]\n",
    "            y = [self.label_to_index(label) for label in df['Label'].values]\n",
    "            \n",
    "            print(f\"Loaded {path} Successfully.\")\n",
    "            return (X, y)\n",
    "            \n",
    "        except Exception as e:\n",
    "            print(f\"Error loading data: {e}\")\n",
    "            return [], []\n",
    "\n",
    "    def build_vocab(self):\n",
    "        \"\"\"\n",
    "        Builds vocabulary based on the given vocab list\n",
    "        \"\"\"\n",
    "        self.w2i = {word: index for index, word in enumerate(self.vocab)}\n",
    "        self.i2w = {index: word for word, index in self.w2i.items()}\n",
    "\n",
    "    def build_mappings(self):\n",
    "        \"\"\"\n",
    "        Builds label mappings based on the given labels list\n",
    "        \"\"\"\n",
    "        self.l2i = {label: index for index, label in enumerate(self.labels)}\n",
    "        self.i2l = {index: label for label, index in self.l2i.items()}\n",
    "\n",
    "    def word_to_index(self, word: str) -> int:\n",
    "        \"\"\"\n",
    "        Transforms a word to its corresponding index. If the word is not in the vocabulary, \n",
    "        it returns the index of the unknown token\n",
    "        \"\"\"\n",
    "        return self.w2i[word]\n",
    "\n",
    "    def label_to_index(self, label: str) -> int:\n",
    "        \"\"\"\n",
    "        Transforms a label to its corresponding index. If the label is not in the labels list, \n",
    "        it raises a ValueError\n",
    "        \"\"\"\n",
    "        if label not in self.l2i:\n",
    "            raise ValueError(f\"Label {label} not found in labels list\")\n",
    "        return self.l2i[label]\n",
    "        \n",
    "    def create_pytorch_dataset(self, path: str) -> Dataset:\n",
    "        X_data, y_data = self.load_data(path)\n",
    "        return self.CustomDataset(X_data, y_data)\n",
    "\n",
    "    class CustomDataset(Dataset):\n",
    "        def __init__(self, X_data, y_data):\n",
    "            self.X_data = X_data\n",
    "            self.y_data = y_data\n",
    "        \n",
    "        def __len__(self):\n",
    "            return len(self.X_data)\n",
    "        \n",
    "        def __getitem__(self, index):\n",
    "            return torch.tensor(self.X_data[index], dtype=torch.long), torch.tensor(self.y_data[index], dtype=torch.long)"
   ]
  },
  {
   "cell_type": "code",
   "execution_count": 7,
   "metadata": {},
   "outputs": [],
   "source": [
    "import re\n",
    "import copy\n",
    "from ordered_set import OrderedSet\n",
    "\n",
    "class TokenTaggingDataset(BaseDatabase):\n",
    "    \"\"\"\n",
    "    A class used to load and preprocess Token Tagging Dataset\n",
    "    \"\"\"\n",
    "    def __init__(\n",
    "        self,\n",
    "        filepath: str,\n",
    "        delimiter: str,\n",
    "        padding_token: str = \"<PAD>\",\n",
    "        unknown_token: str = \"<UNK>\",\n",
    "        external: bool = False\n",
    "    ):\n",
    "        self.delimiter = delimiter\n",
    "        self.special_tokens = [padding_token, unknown_token, \"<DATE>\", \"<NUMBER>\", \"<PUNC>\"]\n",
    "        self.filepath=filepath\n",
    "        self.max_len = 0\n",
    "        self.external = external\n",
    "        super().__init__(padding_token, unknown_token)\n",
    "\n",
    "    def load_data(self, filepath: str) -> None:\n",
    "        \"\"\"\n",
    "        Loads data and labels from a file, tokenizes them, and builds a vocabulary\n",
    "        \"\"\"\n",
    "        with open(filepath, \"r\", encoding=\"utf-8\") as file:\n",
    "            content = file.read().strip()\n",
    "\n",
    "        raw_sentences = content.split(\"\\n\\n\")  # sentences are divided by '\\n\\n'\n",
    "        sentences, labels = [], []\n",
    "\n",
    "        for raw_sentence in raw_sentences:\n",
    "            lines = raw_sentence.split(\"\\n\")\n",
    "            sentence = []\n",
    "            label = []\n",
    "            for line in lines:\n",
    "                split_line = line.strip().split(self.delimiter)\n",
    "                word = split_line[0]\n",
    "                if len(split_line) > 1:\n",
    "                    word_label = split_line[1]\n",
    "                else:\n",
    "                    word_label = self.unknown_token  # assign dummy label if none is provided\n",
    "                sentence.append(word)\n",
    "                label.append(word_label)\n",
    "            sentences.append(' '.join(sentence))\n",
    "            labels.append(' '.join(label))\n",
    "\n",
    "        if not self.vocab:\n",
    "          self.build_vocab(sentences, labels)\n",
    "\n",
    "        X = [self.tokenize_sentence(sentence) for sentence in sentences]\n",
    "        y = [self.tokenize_labels(label) for label in labels]\n",
    "\n",
    "        print(f\"Data from {filepath} has been loaded successfully.\")\n",
    "\n",
    "        return (X, y)\n",
    "\n",
    "    def load_external(self, path=EXTERNAL_VOCAB):\n",
    "        with open(path, 'r') as file:\n",
    "            vocab_txt = file.read()\n",
    "            external_vocab = OrderedSet(word.strip() for word in vocab_txt.split('\\n') if word.strip())\n",
    "            \n",
    "        return external_vocab\n",
    "        \n",
    "    def build_vocab(self, sentences: List[str], labels: List[str]) -> None:\n",
    "        \"\"\"\n",
    "        Builds vocabulary based on the words in each sentence and the labels\n",
    "        \"\"\"\n",
    "        vocab = set() if not self.external else self.load_external()\n",
    "        label_vocab = set()\n",
    "        self.max_len = max([len(sentence.split()) for sentence in sentences])\n",
    "\n",
    "        for sentence in sentences:\n",
    "            words = sentence.split()\n",
    "            vocab.update(words)\n",
    "            vocab.update([word.lower() for word in words])\n",
    "\n",
    "        for label in labels:\n",
    "            labels = label.split()\n",
    "            label_vocab.update(labels)\n",
    "\n",
    "        self.vocab = self.special_tokens + list(vocab)\n",
    "        self.labels = [self.padding_token, self.unknown_token] + list(label_vocab)\n",
    "\n",
    "        self.build_mappings()\n",
    "\n",
    "    def tokenize_sentence(self, sentence: str) -> List[int]:\n",
    "        \"\"\"\n",
    "        Tokenizes a sentence by replacing special tokens and padding it to max_len\n",
    "        \"\"\"\n",
    "        tokens = []\n",
    "        words = sentence.split()\n",
    "\n",
    "        for word in words:\n",
    "            lower_word = word.lower()\n",
    "            if re.match(r\"\\d{2}-\\d{2}-\\d{4}\", word):  # DATE regex\n",
    "                tokens.append(self.w2i[\"<DATE>\"])\n",
    "            elif re.match(r\"\\d+\", word):  # NUMBER regex\n",
    "                tokens.append(self.w2i[\"<NUMBER>\"])\n",
    "            elif re.match(r\"\\W\", word):  # PUNC regex\n",
    "                tokens.append(self.w2i[\"<PUNC>\"])\n",
    "            elif word in self.w2i:\n",
    "                tokens.append(self.w2i[word])\n",
    "            elif lower_word in self.w2i:\n",
    "                tokens.append(self.w2i[lower_word])\n",
    "            else:\n",
    "                tokens.append(self.w2i[self.unknown_token])\n",
    "\n",
    "        # Pad the sentence to max_len\n",
    "        if len(tokens) < self.max_len:\n",
    "            tokens += [self.w2i[self.padding_token]] * (self.max_len - len(tokens))\n",
    "        else:\n",
    "            tokens = tokens[: self.max_len]\n",
    "\n",
    "        return tokens\n",
    "\n",
    "    def tokenize_labels(self, label: str) -> List[int]:\n",
    "        \"\"\"\n",
    "        Tokenizes a label by replacing special tokens and padding it to max_len\n",
    "        \"\"\"\n",
    "        tokens = []\n",
    "\n",
    "        for token in label.split():\n",
    "            if token in self.l2i:\n",
    "                tokens.append(self.l2i[token])\n",
    "            else:\n",
    "                tokens.append(self.l2i[self.unknown_token])\n",
    "\n",
    "        # Pad the label to max_len\n",
    "        if len(tokens) < self.max_len:\n",
    "            tokens += [self.l2i[self.padding_token]] * (self.max_len - len(tokens))\n",
    "        else:\n",
    "            tokens = tokens[: self.max_len]\n",
    "\n",
    "        return tokens\n",
    "\n",
    "    def build_mappings(self) -> None:\n",
    "        \"\"\"\n",
    "        Builds word-to-index and label-to-index mappings\n",
    "        \"\"\"\n",
    "        self.w2i = {word: index for index, word in enumerate(self.vocab)}\n",
    "        self.i2w = {index: word for word, index in self.w2i.items()}\n",
    "        self.l2i = {label: index for index, label in enumerate(self.labels)}\n",
    "        self.i2l = {index: label for label, index in self.l2i.items()}\n",
    "\n",
    "    def word_to_index(self, word: str) -> int:\n",
    "        \"\"\"\n",
    "        Transforms a word to its corresponding index. If the word is not in the vocabulary, \n",
    "        it returns the index of the unknown token\n",
    "        \"\"\"\n",
    "        return self.w2i[word]\n",
    "\n",
    "    def label_to_index(self, label: str) -> int:\n",
    "        \"\"\"\n",
    "        Transforms a label to its corresponding index. If the label is not in the labels list, \n",
    "        it raises a ValueError\n",
    "        \"\"\"\n",
    "        if label not in self.l2i:\n",
    "            raise ValueError(f\"Label {label} not found in labels list\")\n",
    "        return self.l2i[label]\n",
    "        \n",
    "    def create_pytorch_dataset(self, path: str) -> Dataset:\n",
    "        class CustomDataset(Dataset):\n",
    "            def __init__(self, X_data, y_data):\n",
    "                self.X_data = X_data\n",
    "                self.y_data = y_data\n",
    "            \n",
    "            def __len__(self):\n",
    "                return len(self.X_data)\n",
    "            \n",
    "            def __getitem__(self, index):\n",
    "                return torch.tensor(self.X_data[index], dtype=torch.long), torch.tensor(self.y_data[index], dtype=torch.long)\n",
    "\n",
    "        X_data, y_data = self.load_data(path)\n",
    "        return CustomDataset(X_data, y_data)"
   ]
  },
  {
   "cell_type": "code",
   "execution_count": 8,
   "metadata": {},
   "outputs": [],
   "source": [
    "import re\n",
    "import copy\n",
    "\n",
    "class CharLevel(BaseDatabase):\n",
    "    \"\"\"\n",
    "    A class used to load and preprocess Token Tagging Dataset\n",
    "    \"\"\"\n",
    "    def __init__(\n",
    "        self,\n",
    "        filepath: str,\n",
    "        delimiter: str,\n",
    "        padding_token: str = \"<PAD>\",\n",
    "        unknown_token: str = \"<UNK>\",\n",
    "    ):\n",
    "        self.delimiter = delimiter\n",
    "        self.special_tokens = [padding_token, unknown_token, \"<DATE>\", \"<NUMBER>\", \"<PUNC>\"]\n",
    "        self.filepath=filepath\n",
    "        self.max_len = 0\n",
    "        super().__init__(padding_token, unknown_token)\n",
    "\n",
    "    def load_data(self, filepath: str) -> None:\n",
    "        \"\"\"\n",
    "        Loads data and labels from a file, tokenizes them, and builds a vocabulary\n",
    "        \"\"\"\n",
    "        with open(filepath, \"r\", encoding=\"utf-8\") as file:\n",
    "            content = file.read().strip()\n",
    "\n",
    "        raw_sentences = content.split(\"\\n\\n\")  # sentences are divided by '\\n\\n'\n",
    "        sentences, labels = [], []\n",
    "\n",
    "        for raw_sentence in raw_sentences:\n",
    "            lines = raw_sentence.split(\"\\n\")\n",
    "            sentence = []\n",
    "            label = []\n",
    "            for line in lines:\n",
    "                split_line = line.strip().split(self.delimiter)\n",
    "                word = split_line[0]\n",
    "                if len(split_line) > 1:\n",
    "                    word_label = split_line[1]\n",
    "                else:\n",
    "                    word_label = self.unknown_token  # assign dummy label if none is provided\n",
    "                sentence.append(word)\n",
    "                label.append(word_label)\n",
    "            sentences.append(' '.join(sentence))\n",
    "            labels.append(' '.join(label))\n",
    "\n",
    "        if not self.vocab:\n",
    "          self.build_vocab(sentences, labels)\n",
    "\n",
    "        X = [self.tokenize_sentence(sentence) for sentence in sentences]\n",
    "        y = [self.tokenize_labels(label) for label in labels]\n",
    "\n",
    "        print(f\"Data from {filepath} has been loaded successfully.\")\n",
    "        return (X,y)\n",
    "\n",
    "    def word_to_chars(self, word: str) -> List[str]:\n",
    "        return [char for char in word]\n",
    "\n",
    "    def build_vocab(self, sentences: List[str], labels: List[str]) -> None:\n",
    "        \"\"\"\n",
    "        Builds vocabulary based on the words in each sentence and the labels\n",
    "        \"\"\"\n",
    "\n",
    "        vocab = set()\n",
    "        label_vocab = set()\n",
    "        self.max_len = max([len(sentence.split()) for sentence in sentences])\n",
    "        self.max_word_len = max(max(len(word) for word in sentence.split()) for sentence in sentences)\n",
    "\n",
    "        for sentence in sentences:\n",
    "            chars = list(sentence)\n",
    "            vocab.update(chars)\n",
    "        for label in labels:\n",
    "            labels = label.split()\n",
    "            label_vocab.update(labels)\n",
    "\n",
    "        self.vocab = self.special_tokens + list(vocab)\n",
    "        self.labels = [self.padding_token, self.unknown_token] + list(label_vocab)\n",
    "\n",
    "        self.build_mappings()\n",
    "\n",
    "    def tokenize_sentence(self, sentence: str) -> List[List[int]]:\n",
    "        \"\"\"\n",
    "        Tokenizes a sentence by replacing special tokens and padding it to max_len\n",
    "        \"\"\"\n",
    "        tokens = []\n",
    "        words = sentence.split()\n",
    "\n",
    "        for word in words:\n",
    "            chars = self.word_to_chars(word)\n",
    "            char_indices = [self.w2i[char] for char in chars if char in self.w2i]\n",
    "\n",
    "            if len(char_indices) < self.max_word_len:\n",
    "                char_indices += [self.w2i[self.padding_token]] * (self.max_word_len - len(char_indices))\n",
    "            else:\n",
    "                char_indices = char_indices[:self.max_word_len]\n",
    "\n",
    "            tokens.append(char_indices)\n",
    "            \n",
    "        # Pad the sentence to max_len\n",
    "        if len(tokens) < self.max_len:\n",
    "            tokens += [[self.w2i[self.padding_token]] * self.max_word_len] * (self.max_len - len(tokens))\n",
    "        else:\n",
    "            tokens = tokens[: self.max_len]\n",
    "\n",
    "        return tokens\n",
    "\n",
    "\n",
    "    def tokenize_labels(self, label: str) -> List[int]:\n",
    "        \"\"\"\n",
    "        Tokenizes a label by replacing special tokens and padding it to max_len\n",
    "        \"\"\"\n",
    "        tokens = []\n",
    "\n",
    "        for token in label.split():\n",
    "            if token in self.l2i:\n",
    "                tokens.append(self.l2i[token])\n",
    "            else:\n",
    "                tokens.append(self.l2i[self.unknown_token])\n",
    "\n",
    "        # Pad the label to max_len\n",
    "        if len(tokens) < self.max_len:\n",
    "            tokens += [self.l2i[self.padding_token]] * (self.max_len - len(tokens))\n",
    "        else:\n",
    "            tokens = tokens[: self.max_len]\n",
    "\n",
    "        return tokens\n",
    "        \n",
    "    def build_mappings(self) -> None:\n",
    "        \"\"\"\n",
    "        Builds word-to-index and label-to-index mappings\n",
    "        \"\"\"\n",
    "        self.w2i = {word: index for index, word in enumerate(self.vocab)}\n",
    "        self.i2w = {index: word for word, index in self.w2i.items()}\n",
    "        self.l2i = {label: index for index, label in enumerate(self.labels)}\n",
    "        self.i2l = {index: label for label, index in self.l2i.items()}\n",
    "\n",
    "    def word_to_index(self, word: str) -> int:\n",
    "        \"\"\"\n",
    "        Transforms a word to its corresponding index. If the word is not in the vocabulary, \n",
    "        it returns the index of the unknown token\n",
    "        \"\"\"\n",
    "        return self.w2i[word]\n",
    "\n",
    "    def label_to_index(self, label: str) -> int:\n",
    "        \"\"\"\n",
    "        Transforms a label to its corresponding index. If the label is not in the labels list, \n",
    "        it raises a ValueError\n",
    "        \"\"\"\n",
    "        if label not in self.l2i:\n",
    "            raise ValueError(f\"Label {label} not found in labels list\")\n",
    "        return self.l2i[label]\n",
    "\n",
    "    def create_pytorch_dataset(self, path: str) -> Dataset:\n",
    "        class CustomDataset(Dataset):\n",
    "            def __init__(self, X_data, y_data):\n",
    "                self.X_data = X_data\n",
    "                self.y_data = y_data\n",
    "            \n",
    "            def __len__(self):\n",
    "                return len(self.X_data)\n",
    "            \n",
    "            def __getitem__(self, index):\n",
    "                return torch.tensor(self.X_data[index], dtype=torch.long), torch.tensor(self.y_data[index], dtype=torch.long)\n",
    "\n",
    "        X_data, y_data = self.load_data(path)\n",
    "        return CustomDataset(X_data, y_data)"
   ]
  },
  {
   "cell_type": "code",
   "execution_count": 9,
   "metadata": {},
   "outputs": [],
   "source": [
    "import re\n",
    "import copy\n",
    "\n",
    "class SubWords(BaseDatabase):\n",
    "    \"\"\"\n",
    "    A class used to load and preprocess Token Tagging Dataset\n",
    "    \"\"\"\n",
    "    def __init__(\n",
    "        self,\n",
    "        filepath: str,\n",
    "        delimiter: str,\n",
    "        padding_token: str = \"<PAD>\",\n",
    "        unknown_token: str = \"<UNK>\",\n",
    "    ):\n",
    "        self.delimiter = delimiter\n",
    "        self.special_tokens = [padding_token, unknown_token, \"<DATE>\", \"<NUMBER>\", \"<PUNC>\"]\n",
    "        self.filepath=filepath\n",
    "        self.max_len = 0\n",
    "        super().__init__(padding_token, unknown_token)\n",
    "\n",
    "    def load_data(self, filepath: str) -> None:\n",
    "        \"\"\"\n",
    "        Loads data and labels from a file, tokenizes them, and builds a vocabulary\n",
    "        \"\"\"\n",
    "        with open(filepath, \"r\", encoding=\"utf-8\") as file:\n",
    "            content = file.read().strip()\n",
    "\n",
    "        raw_sentences = content.split(\"\\n\\n\")  # sentences are divided by '\\n\\n'\n",
    "        sentences, labels = [], []\n",
    "\n",
    "        for raw_sentence in raw_sentences:\n",
    "            lines = raw_sentence.split(\"\\n\")\n",
    "            sentence = []\n",
    "            label = []\n",
    "            for line in lines:\n",
    "                split_line = line.strip().split(self.delimiter)\n",
    "                word = split_line[0]\n",
    "                if len(split_line) > 1:\n",
    "                    word_label = split_line[1]\n",
    "                else:\n",
    "                    word_label = self.unknown_token  # assign dummy label if none is provided\n",
    "                sentence.append(word)\n",
    "                label.append(word_label)\n",
    "            sentences.append(' '.join(sentence))\n",
    "            labels.append(' '.join(label))\n",
    "\n",
    "        if not self.vocab:\n",
    "          self.build_vocab(sentences, labels)\n",
    "\n",
    "        X = [self.tokenize_sentence(sentence) for sentence in sentences]\n",
    "        y = [self.tokenize_labels(label) for label in labels]\n",
    "\n",
    "        print(f\"Data from {filepath} has been loaded successfully.\")\n",
    "        return (X,y)\n",
    "\n",
    "    def word_to_subwords(self, word: str) -> List[str]:\n",
    "        prefix = word[:3]\n",
    "        suffix = word[-3:]\n",
    "        return [prefix, suffix]\n",
    "\n",
    "    def build_vocab(self, sentences: List[str], labels: List[str]) -> None:\n",
    "        \"\"\"\n",
    "        Builds vocabulary based on the words in each sentence and the labels\n",
    "        \"\"\"\n",
    "\n",
    "        vocab = set()\n",
    "        label_vocab = set()\n",
    "        self.max_len = max([len(sentence.split()) for sentence in sentences])\n",
    "\n",
    "        for sentence in sentences:\n",
    "            for word in sentence:\n",
    "                vocab.update(self.word_to_subwords(word))\n",
    "                vocab.update(self.word_to_subwords(word.lower()))\n",
    "                \n",
    "        for label in labels:\n",
    "            labels = label.split()\n",
    "            label_vocab.update(labels)\n",
    "\n",
    "        self.vocab = self.special_tokens + list(vocab)\n",
    "        self.labels = [self.padding_token, self.unknown_token] + list(label_vocab)\n",
    "\n",
    "        self.build_mappings()\n",
    "\n",
    "    def tokenize_sentence(self, sentence: str) -> List[List[int]]:\n",
    "        \"\"\"\n",
    "        Tokenizes a sentence by replacing special tokens and padding it to max_len\n",
    "        \"\"\"\n",
    "        tokens = []\n",
    "        words = sentence.split()\n",
    "\n",
    "        for word in words:\n",
    "            subwords = self.word_to_subwords(word)\n",
    "            subwords_indices = [self.w2i[subword] if subword in self.w2i.keys() else self.w2i[self.unknown_token] for subword in subwords]\n",
    "            tokens.append(subwords_indices)\n",
    "            \n",
    "        # Pad the sentence to max_len\n",
    "        if len(tokens) < self.max_len:\n",
    "            tokens += [[self.w2i[self.padding_token]] * 2] * (self.max_len - len(tokens))\n",
    "        else:\n",
    "            tokens = tokens[: self.max_len]\n",
    "\n",
    "        return tokens\n",
    "\n",
    "\n",
    "    def tokenize_labels(self, label: str) -> List[int]:\n",
    "        \"\"\"\n",
    "        Tokenizes a label by replacing special tokens and padding it to max_len\n",
    "        \"\"\"\n",
    "        tokens = []\n",
    "\n",
    "        for token in label.split():\n",
    "            if token in self.l2i:\n",
    "                tokens.append(self.l2i[token])\n",
    "            else:\n",
    "                tokens.append(self.l2i[self.unknown_token])\n",
    "\n",
    "        # Pad the label to max_len\n",
    "        if len(tokens) < self.max_len:\n",
    "            tokens += [self.l2i[self.padding_token]] * (self.max_len - len(tokens))\n",
    "        else:\n",
    "            tokens = tokens[: self.max_len]\n",
    "\n",
    "        return tokens\n",
    "        \n",
    "    def build_mappings(self) -> None:\n",
    "        \"\"\"\n",
    "        Builds word-to-index and label-to-index mappings\n",
    "        \"\"\"\n",
    "        self.w2i = {word: index for index, word in enumerate(self.vocab)}\n",
    "        self.i2w = {index: word for word, index in self.w2i.items()}\n",
    "        self.l2i = {label: index for index, label in enumerate(self.labels)}\n",
    "        self.i2l = {index: label for label, index in self.l2i.items()}\n",
    "\n",
    "    def word_to_index(self, word: str) -> int:\n",
    "        \"\"\"\n",
    "        Transforms a word to its corresponding index. If the word is not in the vocabulary, \n",
    "        it returns the index of the unknown token\n",
    "        \"\"\"\n",
    "        return self.w2i[word]\n",
    "\n",
    "    def label_to_index(self, label: str) -> int:\n",
    "        \"\"\"\n",
    "        Transforms a label to its corresponding index. If the label is not in the labels list, \n",
    "        it raises a ValueError\n",
    "        \"\"\"\n",
    "        if label not in self.l2i:\n",
    "            raise ValueError(f\"Label {label} not found in labels list\")\n",
    "        return self.l2i[label]\n",
    "\n",
    "    def create_pytorch_dataset(self, path: str) -> Dataset:\n",
    "        class CustomDataset(Dataset):\n",
    "            def __init__(self, X_data, y_data):\n",
    "                self.X_data = X_data\n",
    "                self.y_data = y_data\n",
    "            \n",
    "            def __len__(self):\n",
    "                return len(self.X_data)\n",
    "            \n",
    "            def __getitem__(self, index):\n",
    "                return torch.tensor(self.X_data[index], dtype=torch.long), torch.tensor(self.y_data[index], dtype=torch.long)\n",
    "\n",
    "        X_data, y_data = self.load_data(path)\n",
    "        return CustomDataset(X_data, y_data)"
   ]
  },
  {
   "cell_type": "markdown",
   "metadata": {
    "id": "Aeb1WccXo3d5"
   },
   "source": [
    "### LSTMs"
   ]
  },
  {
   "cell_type": "code",
   "execution_count": 10,
   "metadata": {},
   "outputs": [],
   "source": [
    "import torch\n",
    "from torch import nn\n",
    "from torch.nn import functional as F\n",
    "from torch.nn.utils.rnn import pack_padded_sequence, pad_packed_sequence\n",
    "\n",
    "class BiLSTMTransducer(nn.Module):\n",
    "    def __init__(self, vocab_size: int, embedding_dim: int, lstm_hidden_dim: int, output_dim: int, n_layers: int, \n",
    "                 dropout: float, pad_idx: int):\n",
    "        super(BiLSTMTransducer, self).__init__()\n",
    "\n",
    "        # Embedding layer\n",
    "        self.embedding = nn.Embedding(vocab_size, embedding_dim, padding_idx=pad_idx)\n",
    "        self.pad_idx = pad_idx\n",
    "\n",
    "        # BiLSTM layer\n",
    "        self.bilstm = nn.LSTM(embedding_dim, lstm_hidden_dim, num_layers=n_layers, \n",
    "                              dropout=dropout, bidirectional=True, batch_first=True)\n",
    "\n",
    "        # Output layer\n",
    "        self.fc = nn.Linear(lstm_hidden_dim*2, output_dim)\n",
    "\n",
    "    def forward(self, text):\n",
    "        # text = [batch size, sent len]\n",
    "\n",
    "        # Pass text through embedding layer\n",
    "        embedded = self.embedding(text)\n",
    "\n",
    "        # Compute sequence lengths\n",
    "        text_lengths = torch.sum(text != self.pad_idx, dim=1)  # change to self.pad_idx\n",
    "        total_length = text.shape[1]\n",
    "        \n",
    "        # Pack padded sequence\n",
    "        packed_embedded = nn.utils.rnn.pack_padded_sequence(embedded, text_lengths.cpu(), batch_first=True, enforce_sorted=False)\n",
    "\n",
    "        # Pass embeddings into BiLSTM\n",
    "        packed_output, _ = self.bilstm(packed_embedded)\n",
    "        \n",
    "        # Unpack sequence\n",
    "        output, _ = nn.utils.rnn.pad_packed_sequence(packed_output, batch_first=True, total_length=total_length)\n",
    "\n",
    "        # Pass the outputs through the output layer\n",
    "        outputs = self.fc(output)\n",
    "        \n",
    "        return outputs  # return outputs instead of output\n",
    "\n"
   ]
  },
  {
   "cell_type": "code",
   "execution_count": 11,
   "metadata": {},
   "outputs": [],
   "source": [
    "import torch\n",
    "from torch import nn\n",
    "from torch.nn import functional as F\n",
    "from torch.nn.utils.rnn import pack_padded_sequence, pad_packed_sequence\n",
    "import numpy as np\n",
    "from io import StringIO\n",
    "\n",
    "class BiLSTMTransducerSubwords(nn.Module):\n",
    "    def __init__(self, subword_vocab_size: int, word_vocab_size: int, subword_embedding_dim: int, word_embedding_dim: int, subword_lstm_hidden_dim:int, lstm_hidden_dim: int, output_dim: int, n_layers: int, \n",
    "                 dropout: float, subword_pad_idx: int, word_pad_idx: int, external=False, special_tokens_size=5):\n",
    "        super(BiLSTMTransducerSubwords, self).__init__()\n",
    "                     \n",
    "        def load_external(path=EXTERNAL_EMBEDDING, added_vocab_size=special_tokens_size):\n",
    "            with open(path, 'r') as file:\n",
    "                embeddings_txt = file.read()\n",
    "                embeddings = np.loadtxt(StringIO(embeddings_txt))\n",
    "                \n",
    "                # Add vectors for special tokens at the beginning\n",
    "                special_embeddings = np.random.normal(size=(added_vocab_size, embeddings.shape[1]))\n",
    "\n",
    "                # Add vectors for new tokens at the end\n",
    "                added_embeddings = np.random.normal(size=(word_vocab_size - embeddings.shape[0] - added_vocab_size, embeddings.shape[1]))\n",
    "\n",
    "                # Combine old embeddings with new ones\n",
    "                embeddings = np.concatenate([special_embeddings, embeddings, added_embeddings], axis=0)\n",
    "\n",
    "                embeddings = torch.from_numpy(embeddings).float()  # Convert numpy array to PyTorch tensor\n",
    "            return nn.Embedding.from_pretrained(embeddings, freeze=False, padding_idx=word_pad_idx)\n",
    "            \n",
    "        # Embedding layer\n",
    "        self.subword_embedding = nn.Embedding(subword_vocab_size, subword_embedding_dim, padding_idx=subword_pad_idx)\n",
    "        self.word_embedding = nn.Embedding(word_vocab_size, word_embedding_dim, padding_idx=word_pad_idx) if not external else load_external()\n",
    "        self.subword_pad_idx = subword_pad_idx\n",
    "        self.word_pad_idx = word_pad_idx\n",
    "        \n",
    "        self.lstm_chars = nn.LSTM(subword_embedding_dim, subword_lstm_hidden_dim, num_layers=1, batch_first=True)\n",
    "\n",
    "        # BiLSTM layer\n",
    "        self.bilstm = nn.LSTM(subword_embedding_dim + word_embedding_dim, lstm_hidden_dim, num_layers=n_layers, \n",
    "                              dropout=dropout, bidirectional=True, batch_first=True)\n",
    "\n",
    "        # Output layer\n",
    "        self.fc = nn.Linear(lstm_hidden_dim*2, output_dim)\n",
    "\n",
    "    def forward_chars(self, text):\n",
    "         # text = [batch size, sent len, word len]\n",
    "        batch_size, sent_len, word_len = text.size()\n",
    "        # Reshape text for embedding\n",
    "        reshaped_text = text.view(batch_size * sent_len, word_len)\n",
    "\n",
    "        # Compute lengths for each sequence in reshaped text\n",
    "        char_lengths = torch.sum((reshaped_text != self.subword_pad_idx), dim=1)\n",
    "        \n",
    "        # Filter out the all-padding words\n",
    "        non_zero_idx = torch.nonzero(char_lengths, as_tuple=True)[0]\n",
    "\n",
    "        non_zero_lengths = char_lengths[non_zero_idx]\n",
    "        non_zero_reshaped = reshaped_text[non_zero_idx]\n",
    "        \n",
    "        # Pass text through embedding layer\n",
    "        embedded = self.subword_embedding(non_zero_reshaped)\n",
    "\n",
    "        # Pack the sequences\n",
    "        packed_embedded = pack_padded_sequence(embedded, non_zero_lengths.cpu(), batch_first=True, enforce_sorted=False)\n",
    "        \n",
    "        packed_output, _ = self.lstm_chars(packed_embedded)\n",
    "        \n",
    "        # Pad the sequence to the max length in the batch\n",
    "        char_output, _ = pad_packed_sequence(packed_output, batch_first=True)\n",
    "\n",
    "        # Take the last non-padding output for each sequence to create word embeddings\n",
    "        word_embedding = char_output[torch.arange(char_output.size(0)).to(text.device), non_zero_lengths-1]\n",
    "\n",
    "        # Create an all-zero tensor to hold the word embeddings including the all-padding words\n",
    "        all_word_embedding = torch.zeros(batch_size * sent_len, word_embedding.size(-1)).to(word_embedding.device)\n",
    "\n",
    "        # Place the word embeddings in their corresponding place, leave the all-padding words as zero\n",
    "        all_word_embedding[non_zero_idx] = word_embedding\n",
    "\n",
    "        # Reshape back to [batch size, sent len, embedding dim]\n",
    "        all_word_embedding = all_word_embedding.view(batch_size, sent_len, -1)\n",
    "        \n",
    "        return all_word_embedding\n",
    "        \n",
    "    def forward(self, sentences_words, sentences_characters):\n",
    "        # text = [batch size, sent len]\n",
    "        sentences_characters_vecs = self.forward_chars(sentences_characters)\n",
    "\n",
    "        # Pass text through embedding layer\n",
    "        embedded = self.word_embedding(sentences_words)\n",
    "    \n",
    "        # Compute sequence lengths\n",
    "        text_lengths = torch.sum(sentences_words != self.word_pad_idx, dim=1) \n",
    "        total_length = sentences_words.shape[1]\n",
    "        \n",
    "        # Prepare a placeholder tensor for the concatenated output\n",
    "        output = torch.zeros(embedded.shape[0], total_length, embedded.shape[2] + sentences_characters_vecs.shape[2]).to(embedded.device)\n",
    "        \n",
    "        for i, length in enumerate(text_lengths):\n",
    "            # Concatenate the non-padding parts\n",
    "            output[i, :length] = torch.cat((embedded[i, :length], sentences_characters_vecs[i, :length]), dim=-1)\n",
    "        \n",
    "        # Pack padded sequence\n",
    "        packed_embedded = nn.utils.rnn.pack_padded_sequence(output, text_lengths.cpu(), batch_first=True, enforce_sorted=False)\n",
    "\n",
    "        # Pass embeddings into BiLSTM\n",
    "        packed_output, _ = self.bilstm(packed_embedded)\n",
    "        \n",
    "        # Unpack sequence\n",
    "        output, _ = nn.utils.rnn.pad_packed_sequence(packed_output, batch_first=True, total_length=total_length)\n",
    "        \n",
    "        # Pass the outputs through the output layer\n",
    "        outputs = self.fc(output)\n",
    "        \n",
    "        return outputs  # return outputs instead of output"
   ]
  },
  {
   "cell_type": "code",
   "execution_count": 12,
   "metadata": {},
   "outputs": [],
   "source": [
    "import torch\n",
    "from torch import nn\n",
    "from torch.nn.utils.rnn import pack_padded_sequence, pad_packed_sequence\n",
    "\n",
    "class LSTMCharLevel(nn.Module):\n",
    "    def __init__(self, vocab_size: int, embedding_dim: int, char_lstm_hidden_dim: int, \n",
    "                 lstm_hidden_dim: int, n_layers: int, output_dim: int, dropout: float, pad_idx: int):\n",
    "        super(LSTMCharLevel, self).__init__()\n",
    "        self.pad_idx = pad_idx\n",
    "        self.embedding = nn.Embedding(vocab_size, embedding_dim, padding_idx=pad_idx)\n",
    "        self.lstm_chars = nn.LSTM(embedding_dim, char_lstm_hidden_dim, num_layers=1, batch_first=True)\n",
    "                     \n",
    "        self.bilstm = nn.LSTM(char_lstm_hidden_dim, lstm_hidden_dim, num_layers=n_layers, \n",
    "                              dropout=dropout if n_layers > 1 else 0, bidirectional=True, batch_first=True)\n",
    "\n",
    "        self.fc = nn.Linear(lstm_hidden_dim*2, output_dim)\n",
    "        \n",
    "    def forward(self, text):\n",
    "        # text = [batch size, sent len, word len]\n",
    "        batch_size, sent_len, word_len = text.size()\n",
    "        # Reshape text for embedding\n",
    "        reshaped_text = text.view(batch_size * sent_len, word_len)\n",
    "\n",
    "        # Compute lengths for each sequence in reshaped text\n",
    "        char_lengths = torch.sum((reshaped_text != self.pad_idx), dim=1)\n",
    "        \n",
    "        # Filter out the all-padding words\n",
    "        non_zero_idx = torch.nonzero(char_lengths, as_tuple=True)[0]\n",
    "\n",
    "        non_zero_lengths = char_lengths[non_zero_idx]\n",
    "        non_zero_reshaped = reshaped_text[non_zero_idx]\n",
    "        \n",
    "        # Pass text through embedding layer\n",
    "        embedded = self.embedding(non_zero_reshaped)\n",
    "\n",
    "        # Pack the sequences\n",
    "        packed_embedded = pack_padded_sequence(embedded, non_zero_lengths.cpu(), batch_first=True, enforce_sorted=False)\n",
    "        \n",
    "        packed_output, _ = self.lstm_chars(packed_embedded)\n",
    "        \n",
    "        # Pad the sequence to the max length in the batch\n",
    "        char_output, _ = pad_packed_sequence(packed_output, batch_first=True)\n",
    "\n",
    "        # Take the last non-padding output for each sequence to create word embeddings\n",
    "        word_embedding = char_output[torch.arange(char_output.size(0)).to(text.device), non_zero_lengths-1]\n",
    "\n",
    "        # Create an all-zero tensor to hold the word embeddings including the all-padding words\n",
    "        all_word_embedding = torch.zeros(batch_size * sent_len, word_embedding.size(-1)).to(word_embedding.device)\n",
    "\n",
    "        # Place the word embeddings in their corresponding place, leave the all-padding words as zero\n",
    "        all_word_embedding[non_zero_idx] = word_embedding\n",
    "\n",
    "        # Reshape back to [batch size, sent len, embedding dim]\n",
    "        all_word_embedding = all_word_embedding.view(batch_size, sent_len, -1)\n",
    "\n",
    "        output, _ = self.bilstm(all_word_embedding)\n",
    "\n",
    "        # Pass the outputs through the output layer\n",
    "        outputs = self.fc(output)\n",
    "\n",
    "        return outputs"
   ]
  },
  {
   "cell_type": "markdown",
   "metadata": {
    "id": "Aeb1WccXo3d5"
   },
   "source": [
    "### Runners"
   ]
  },
  {
   "cell_type": "code",
   "execution_count": 26,
   "metadata": {},
   "outputs": [],
   "source": [
    "import torch\n",
    "from torch.optim import Adam, lr_scheduler\n",
    "from torch.nn import CrossEntropyLoss\n",
    "from torch.utils.data import DataLoader\n",
    "import torch.nn.functional as F\n",
    "from tqdm import tqdm\n",
    "import os\n",
    "import matplotlib.pyplot as plt\n",
    "import numpy as np\n",
    "from sklearn.utils.class_weight import compute_class_weight\n",
    "import pickle\n",
    "\n",
    "class Runner_A:\n",
    "    def __init__(self, train_dataset_path, test_dataset_path, dev_dataset_path, base_dir, delimiter, \n",
    "                 batch_size=32, learning_rate=0.001, embedding_dim=20, lstm_hidden_dim=16, dropout=0, ner=False, patience=3):\n",
    "        \n",
    "        self.device = torch.device(\"cuda\" if torch.cuda.is_available() else \"cpu\")\n",
    "        self.batch_size = batch_size\n",
    "        self.learning_rate = learning_rate\n",
    "        self.dataset = TokenTaggingDataset(train_dataset_path, delimiter)\n",
    "        self.train_dataset = self.dataset.create_pytorch_dataset(train_dataset_path)\n",
    "        self.test_dataset = self.dataset.create_pytorch_dataset(test_dataset_path)\n",
    "        self.dev_dataset = self.dataset.create_pytorch_dataset(dev_dataset_path)\n",
    "        self.ner = ner\n",
    "        self.pad_idx = self.dataset.word_to_index('<PAD>')\n",
    "        self.model = BiLSTMTransducer(self.dataset.vocab_size(), embedding_dim, lstm_hidden_dim, \n",
    "                                      output_dim=self.dataset.labels_size(), \n",
    "                                      n_layers=2, dropout=dropout, pad_idx=self.pad_idx).to(self.device)\n",
    "        \n",
    "        if ner:\n",
    "            self.class_weights = self.calculate_class_weights()  # calculate class weights\n",
    "            self.loss_fn = CrossEntropyLoss(weight=self.class_weights, ignore_index=self.pad_idx).to(self.device)\n",
    "        else:\n",
    "            self.loss_fn = CrossEntropyLoss(ignore_index=self.pad_idx).to(self.device)\n",
    "        \n",
    "        self.optimizer = Adam(self.model.parameters(), lr=learning_rate, weight_decay=1e-5)\n",
    "        self.scheduler = lr_scheduler.ReduceLROnPlateau(self.optimizer, 'min', patience=patience)\n",
    "        model_name = \"NER\" if ner else \"POS\"\n",
    "                     \n",
    "        self.early_stopping = EarlyStopping(patience=patience, verbose=True, name=model_name)\n",
    "        self.img_dir = os.path.join(base_dir, \"imgs\")\n",
    "        os.makedirs(self.img_dir, exist_ok=True)\n",
    "\n",
    "    def calculate_class_weights(self):\n",
    "        class_weights = compute_class_weight('balanced', classes=np.unique(self.dataset.labels), y=self.dataset.labels)\n",
    "        return torch.Tensor(class_weights).to(self.device)\n",
    "\n",
    "    def create_dataLoader(self, dataset, batch_size=1, shuffle=True):\n",
    "        def collate_fn(batch):\n",
    "            inputs, labels = zip(*batch)\n",
    "            inputs = torch.stack(inputs).to(self.device)\n",
    "            labels = torch.stack(labels).to(self.device)\n",
    "            return inputs, labels\n",
    "\n",
    "        dataloader = DataLoader(dataset, batch_size=batch_size, shuffle=shuffle, collate_fn=collate_fn)\n",
    "        return dataloader\n",
    "\n",
    "    def train(self, num_epochs, save_path=None):\n",
    "        train_loader = self.create_dataLoader(self.train_dataset, self.batch_size)\n",
    "        dev_loader = self.create_dataLoader(self.dev_dataset, self.batch_size)\n",
    "        train_loss_history = []\n",
    "        train_accuracy_history = []\n",
    "        dev_accuracy_history = []\n",
    "        label_pad_idx = self.dataset.label_to_index('<PAD>')\n",
    "        label_o_idx = None\n",
    "        \n",
    "        samples_since_last_eval = 0\n",
    "        for epoch in range(num_epochs):\n",
    "            self.model.train()\n",
    "            total_loss = 0\n",
    "            total_correct = 0\n",
    "            total_non_pad_tokens = 0\n",
    "    \n",
    "            for batch in tqdm(train_loader, desc=f\"Training Epoch {epoch+1}\", unit=\"batch\"):\n",
    "                inputs, labels = batch\n",
    "                text_lengths = torch.sum(inputs != self.pad_idx, dim=1)  # Compute the true lengths of sequences\n",
    "                self.optimizer.zero_grad()\n",
    "                outputs = self.model(inputs)\n",
    "                \n",
    "                # Compute loss only on non-pad tokens\n",
    "                loss = self.loss_fn(outputs.view(-1, outputs.shape[-1]), labels.view(-1))\n",
    "    \n",
    "                loss.backward()\n",
    "                self.optimizer.step()\n",
    "    \n",
    "                total_loss += loss.item()\n",
    "    \n",
    "                non_pad_mask = labels.view(-1) != label_pad_idx  # mask for non-padding tokens\n",
    "                non_O_mask = labels.view(-1) != label_o_idx if label_o_idx else True\n",
    "                valid_mask = non_pad_mask & non_O_mask\n",
    "                \n",
    "                correct_predictions = outputs.argmax(dim=-1).view(-1)[valid_mask] == labels.view(-1)[valid_mask]\n",
    "                total_correct += correct_predictions.sum().item()\n",
    "                total_non_pad_tokens += torch.sum((labels != label_pad_idx) & (labels != label_o_idx), dim=1).sum().item()\n",
    "                \n",
    "                samples_since_last_eval += len(inputs)\n",
    "                if samples_since_last_eval >= 500:\n",
    "                    self.model.eval()\n",
    "                    total_dev_correct = 0\n",
    "                    total_dev_non_pad_tokens = 0\n",
    "                    with torch.no_grad():\n",
    "                        for dev_batch in dev_loader:\n",
    "                            dev_inputs, dev_labels = dev_batch\n",
    "                            dev_outputs = self.model(dev_inputs)\n",
    "                            non_pad_mask = dev_labels.view(-1) != label_pad_idx\n",
    "                            non_O_mask = dev_labels.view(-1) != label_o_idx if label_o_idx else True\n",
    "                            valid_mask = non_pad_mask & non_O_mask\n",
    "                            \n",
    "                            correct_predictions = dev_outputs.argmax(dim=-1).view(-1)[valid_mask] == dev_labels.view(-1)[valid_mask]\n",
    "                            total_dev_correct += correct_predictions.sum().item()\n",
    "                            total_dev_non_pad_tokens += torch.sum((dev_labels != label_pad_idx) & (dev_labels != label_o_idx), dim=1).sum().item()\n",
    "                    \n",
    "                    dev_accuracy = total_dev_correct / total_dev_non_pad_tokens\n",
    "                    dev_accuracy_history.append(dev_accuracy)\n",
    "                    samples_since_last_eval = 0\n",
    "                    self.model.train()\n",
    "    \n",
    "            avg_loss = total_loss / len(train_loader)\n",
    "            train_loss_history.append(avg_loss)\n",
    "            self.scheduler.step(avg_loss)\n",
    "    \n",
    "            # Compute accuracy on non-pad tokens\n",
    "            accuracy = total_correct / total_non_pad_tokens\n",
    "            train_accuracy_history.append(accuracy)\n",
    "    \n",
    "            print(f'Epoch {epoch+1}/{num_epochs}, Train Loss: {avg_loss:.4f}, Train Accuracy: {accuracy:.4f}')\n",
    "            self.early_stopping(dev_accuracy_history[-1], self.model)\n",
    "\n",
    "\n",
    "            if self.early_stopping.early_stop:\n",
    "                print(\"Early stopping\")\n",
    "                break\n",
    "                \n",
    "        with open(DATASETS_3_A_DATA, 'wb') as output:\n",
    "            pickle.dump(self.dataset, output, pickle.HIGHEST_PROTOCOL)   \n",
    "            \n",
    "        torch.save(self.model, save_path) if save_path else None\n",
    "        return dev_accuracy_history\n",
    "\n",
    "    def predict(self, path, filename):\n",
    "        test_loader = self.create_dataLoader(self.test_dataset, self.batch_size)\n",
    "        self.model.eval()\n",
    "        predictions = []\n",
    "\n",
    "        with torch.no_grad():\n",
    "            for inputs in tqdm(test_loader, desc=\"Predicting\", unit=\"batch\"):\n",
    "                inputs = inputs.to(self.device)\n",
    "                outputs = self.model(inputs)\n",
    "                _, predicted = torch.max(outputs, 1)\n",
    "                predictions.extend(predicted.cpu().numpy())\n",
    "\n",
    "        full_path = os.path.join(path, filename)\n",
    "        with open(full_path, 'w') as file:\n",
    "            for prediction in predictions:\n",
    "                file.write(str(prediction) + '\\n')\n",
    "\n",
    "        print(f'Predictions written to {full_path}')\n",
    "        \n",
    "    def load_test(self, test_dataset_path, model_path, dataset_path=DATASETS_3_A_DATA):\n",
    "        \"\"\"\n",
    "        Load the test dataset and model\n",
    "        \"\"\"\n",
    "        # Load the dataset from pickle file\n",
    "        with open(dataset_path, 'rb') as dataset_file:\n",
    "            self.dataset = pickle.load(dataset_file)\n",
    "        \n",
    "        # Create the test dataset\n",
    "        self.test_dataset = self.dataset.create_pytorch_dataset(test_dataset_path)\n",
    "        \n",
    "        # Load the model state dict\n",
    "        self.model = torch.load(model_path).to(self.device)\n",
    "        \n",
    "    def run(self, num_epoch=5, save_path=None):\n",
    "        print(\"Starting training (Task A)...\")\n",
    "        dev_acc = self.train(num_epoch, save_path)\n",
    "        print(\"Training complete. (Task A)\")\n",
    "        return dev_acc"
   ]
  },
  {
   "cell_type": "code",
   "execution_count": 25,
   "metadata": {},
   "outputs": [],
   "source": [
    "import torch\n",
    "from torch.optim import Adam, lr_scheduler\n",
    "from torch.nn import CrossEntropyLoss\n",
    "from torch.utils.data import DataLoader\n",
    "import torch.nn.functional as F\n",
    "from tqdm import tqdm\n",
    "import os\n",
    "import matplotlib.pyplot as plt\n",
    "import numpy as np\n",
    "from sklearn.utils.class_weight import compute_class_weight\n",
    "\n",
    "class Runner_B:\n",
    "    def __init__(self, train_dataset_path, test_dataset_path, dev_dataset_path, base_dir, delimiter, \n",
    "                 batch_size=16, learning_rate=0.001, char_embedding_dim=20, lstm_hidden_dim=16, dropout=0, ner=False, patience=3, char_lstm_hidden_dim=20):\n",
    "        \n",
    "        self.device = torch.device(\"cuda\" if torch.cuda.is_available() else \"cpu\")\n",
    "        self.batch_size = batch_size\n",
    "        self.learning_rate = learning_rate\n",
    "        self.dataset = CharLevel(train_dataset_path, delimiter)\n",
    "        self.train_dataset = self.dataset.create_pytorch_dataset(train_dataset_path)\n",
    "        self.test_dataset = self.dataset.create_pytorch_dataset(test_dataset_path)\n",
    "        self.dev_dataset = self.dataset.create_pytorch_dataset(dev_dataset_path)\n",
    "        self.ner = ner\n",
    "        self.pad_idx = self.dataset.word_to_index('<PAD>')\n",
    "        self.model = LSTMCharLevel(vocab_size=self.dataset.vocab_size(), embedding_dim=char_embedding_dim, char_lstm_hidden_dim=char_lstm_hidden_dim, lstm_hidden_dim=lstm_hidden_dim, n_layers=2,\n",
    "                                      output_dim=self.dataset.labels_size(), dropout=dropout, pad_idx=self.pad_idx).to(self.device)\n",
    "        \n",
    "        if ner:\n",
    "            self.class_weights = self.calculate_class_weights()  # calculate class weights\n",
    "            self.loss_fn = CrossEntropyLoss(weight=self.class_weights, ignore_index=self.pad_idx).to(self.device)\n",
    "        else:\n",
    "            self.loss_fn = CrossEntropyLoss(ignore_index=self.pad_idx).to(self.device)\n",
    "        \n",
    "        self.optimizer = Adam(self.model.parameters(), lr=learning_rate, weight_decay=1e-5)\n",
    "        self.scheduler = lr_scheduler.ReduceLROnPlateau(self.optimizer, 'min', patience=patience)\n",
    "        model_name = \"NER\" if ner else \"POS\"\n",
    "        self.early_stopping = EarlyStopping(patience=patience, verbose=True, name=model_name)\n",
    "        self.img_dir = os.path.join(base_dir, \"imgs\")\n",
    "        os.makedirs(self.img_dir, exist_ok=True)\n",
    "\n",
    "    def calculate_class_weights(self):\n",
    "        class_weights = compute_class_weight('balanced', classes=np.unique(self.dataset.labels), y=self.dataset.labels)\n",
    "        return torch.Tensor(class_weights).to(self.device)\n",
    "\n",
    "    def create_dataLoader(self, dataset, batch_size=32, shuffle=True):\n",
    "        def collate_fn(batch):\n",
    "            inputs, labels = zip(*batch)\n",
    "            inputs = torch.stack(inputs).to(self.device)\n",
    "            labels = torch.stack(labels).to(self.device)\n",
    "            return inputs, labels\n",
    "\n",
    "        dataloader = DataLoader(dataset, batch_size=batch_size, shuffle=shuffle, collate_fn=collate_fn)\n",
    "        return dataloader\n",
    "\n",
    "    def train(self, num_epochs, save_path=None):\n",
    "        train_loader = self.create_dataLoader(self.train_dataset, self.batch_size)\n",
    "        dev_loader = self.create_dataLoader(self.dev_dataset, self.batch_size)\n",
    "        train_loss_history = []\n",
    "        train_accuracy_history = []\n",
    "        dev_accuracy_history = []\n",
    "        label_pad_idx = self.dataset.label_to_index('<PAD>')\n",
    "        label_o_idx = None\n",
    "        \n",
    "        samples_since_last_eval = 0\n",
    "        for epoch in range(num_epochs):\n",
    "            self.model.train()\n",
    "            total_loss = 0\n",
    "            total_correct = 0\n",
    "            total_non_pad_tokens = 0\n",
    "    \n",
    "            for batch in tqdm(train_loader, desc=f\"Training Epoch {epoch+1}\", unit=\"batch\"):\n",
    "                inputs, labels = batch\n",
    "                text_lengths = torch.sum(inputs != self.pad_idx, dim=1)  # Compute the true lengths of sequences\n",
    "                self.optimizer.zero_grad()\n",
    "                outputs = self.model(inputs)\n",
    "                \n",
    "                # Compute loss only on non-pad tokens\n",
    "                loss = self.loss_fn(outputs.view(-1, outputs.shape[-1]), labels.view(-1))\n",
    "    \n",
    "                loss.backward()\n",
    "                self.optimizer.step()\n",
    "    \n",
    "                total_loss += loss.item()\n",
    "    \n",
    "                non_pad_mask = labels.view(-1) != label_pad_idx  # mask for non-padding tokens\n",
    "                non_O_mask = labels.view(-1) != label_o_idx if label_o_idx else True\n",
    "                valid_mask = non_pad_mask & non_O_mask\n",
    "                \n",
    "                correct_predictions = outputs.argmax(dim=-1).view(-1)[valid_mask] == labels.view(-1)[valid_mask]\n",
    "                total_correct += correct_predictions.sum().item()\n",
    "                total_non_pad_tokens += torch.sum((labels != label_pad_idx) & (labels != label_o_idx), dim=1).sum().item()\n",
    "                \n",
    "                samples_since_last_eval += len(inputs)\n",
    "                if samples_since_last_eval >= 500:\n",
    "                    self.model.eval()\n",
    "                    total_dev_correct = 0\n",
    "                    total_dev_non_pad_tokens = 0\n",
    "                    with torch.no_grad():\n",
    "                        for dev_batch in dev_loader:\n",
    "                            dev_inputs, dev_labels = dev_batch\n",
    "                            dev_outputs = self.model(dev_inputs)\n",
    "                            non_pad_mask = dev_labels.view(-1) != label_pad_idx\n",
    "                            non_O_mask = dev_labels.view(-1) != label_o_idx if label_o_idx else True\n",
    "                            valid_mask = non_pad_mask & non_O_mask\n",
    "                            \n",
    "                            correct_predictions = dev_outputs.argmax(dim=-1).view(-1)[valid_mask] == dev_labels.view(-1)[valid_mask]\n",
    "                            total_dev_correct += correct_predictions.sum().item()\n",
    "                            total_dev_non_pad_tokens += torch.sum((dev_labels != label_pad_idx) & (dev_labels != label_o_idx), dim=1).sum().item()\n",
    "                    \n",
    "                    dev_accuracy = total_dev_correct / total_dev_non_pad_tokens\n",
    "                    dev_accuracy_history.append(dev_accuracy)\n",
    "                    samples_since_last_eval = 0\n",
    "                    self.model.train()\n",
    "    \n",
    "            avg_loss = total_loss / len(train_loader)\n",
    "            train_loss_history.append(avg_loss)\n",
    "            self.scheduler.step(avg_loss)\n",
    "    \n",
    "            # Compute accuracy on non-pad tokens\n",
    "            accuracy = total_correct / total_non_pad_tokens\n",
    "            train_accuracy_history.append(accuracy)\n",
    "    \n",
    "            print(f'Epoch {epoch+1}/{num_epochs}, Train Loss: {avg_loss:.4f}, Train Accuracy: {accuracy:.4f}')\n",
    "            self.early_stopping(dev_accuracy_history[-1], self.model)\n",
    "\n",
    "\n",
    "            if self.early_stopping.early_stop:\n",
    "                print(\"Early stopping\")\n",
    "                break\n",
    "\n",
    "        with open(DATASETS_3_B_DATA, 'wb') as output:\n",
    "            pickle.dump(self.dataset, output, pickle.HIGHEST_PROTOCOL)  \n",
    "            \n",
    "        torch.save(self.model, save_path) if save_path else None\n",
    "        return dev_accuracy_history\n",
    "\n",
    "    def predict(self, path, filename):\n",
    "        test_loader = self.create_dataLoader(self.test_dataset, self.batch_size)\n",
    "        self.model.eval()\n",
    "        predictions = []\n",
    "\n",
    "        with torch.no_grad():\n",
    "            for inputs in tqdm(test_loader, desc=\"Predicting\", unit=\"batch\"):\n",
    "                inputs = inputs.to(self.device)\n",
    "                outputs = self.model(inputs)\n",
    "                _, predicted = torch.max(outputs, 1)\n",
    "                predictions.extend(predicted.cpu().numpy())\n",
    "\n",
    "        full_path = os.path.join(path, filename)\n",
    "        with open(full_path, 'w') as file:\n",
    "            for prediction in predictions:\n",
    "                file.write(str(prediction) + '\\n')\n",
    "\n",
    "        print(f'Predictions written to {full_path}')\n",
    "        \n",
    "    def load_test(self, test_dataset_path, model_path, dataset_path=DATASETS_3_B_DATA):\n",
    "        \"\"\"\n",
    "        Load the test dataset and model\n",
    "        \"\"\"\n",
    "        # Load the dataset from pickle file\n",
    "        with open(dataset_path, 'rb') as dataset_file:\n",
    "            self.dataset = pickle.load(dataset_file)\n",
    "        \n",
    "        # Create the test dataset\n",
    "        self.test_dataset = self.dataset.create_pytorch_dataset(test_dataset_path)\n",
    "        \n",
    "        # Load the model state dict\n",
    "        self.model = torch.load(model_path).to(self.device)\n",
    "    def run(self, num_epoch=10, save_path=None):\n",
    "        print(\"Starting training (Task B)...\")\n",
    "        dev_acc = self.train(num_epoch, save_path)\n",
    "        print(\"Training complete. (Task B)\")\n",
    "        return dev_acc"
   ]
  },
  {
   "cell_type": "code",
   "execution_count": 31,
   "metadata": {},
   "outputs": [],
   "source": [
    "import torch\n",
    "from torch.optim import Adam, lr_scheduler\n",
    "from torch.nn import CrossEntropyLoss\n",
    "from torch.utils.data import DataLoader\n",
    "import torch.nn.functional as F\n",
    "from tqdm import tqdm\n",
    "import os\n",
    "import matplotlib.pyplot as plt\n",
    "import numpy as np\n",
    "from sklearn.utils.class_weight import compute_class_weight\n",
    "\n",
    "\n",
    "class Runner_C:\n",
    "    def __init__(self, train_dataset_path=None, test_dataset_path=None, dev_dataset_path=None, base_dir=None, delimiter=None, \n",
    "                 batch_size=16, learning_rate=0.001, char_embedding_dim=20, word_embedding_dim=50, lstm_hidden_dim=16, dropout=0.5, ner=False, patience=3, char_lstm_hidden_dim=20, external_embedding=False, c_task=True):\n",
    "        \n",
    "        self.device = torch.device(\"cuda\" if torch.cuda.is_available() else \"cpu\")\n",
    "        self.batch_size = batch_size\n",
    "        self.learning_rate = learning_rate\n",
    "        self.c_task = c_task\n",
    "                     \n",
    "        if external_embedding:\n",
    "            self.word_dataset = TokenTaggingDataset(train_dataset_path, delimiter, external=True)\n",
    "\n",
    "        else: \n",
    "            self.word_dataset = TokenTaggingDataset(train_dataset_path, delimiter)\n",
    "        \n",
    "        self.word_train_dataset = self.word_dataset.create_pytorch_dataset(train_dataset_path) if train_dataset_path else train_dataset_path\n",
    "        self.word_test_dataset = self.word_dataset.create_pytorch_dataset(test_dataset_path) if test_dataset_path else test_dataset_path\n",
    "        self.word_dev_dataset = self.word_dataset.create_pytorch_dataset(dev_dataset_path) if dev_dataset_path else dev_dataset_path\n",
    "                     \n",
    "        self.char_dataset = SubWords(train_dataset_path, delimiter) if c_task else CharLevel(train_dataset_path, delimiter)\n",
    "        self.char_train_dataset = self.char_dataset.create_pytorch_dataset(train_dataset_path) if train_dataset_path else train_dataset_path\n",
    "        self.char_test_dataset = self.char_dataset.create_pytorch_dataset(test_dataset_path) if test_dataset_path else test_dataset_path\n",
    "        self.char_dev_dataset = self.char_dataset.create_pytorch_dataset(dev_dataset_path) if dev_dataset_path else dev_dataset_path\n",
    "                     \n",
    "        self.ner = ner\n",
    "        self.char_pad_idx = self.char_dataset.word_to_index('<PAD>')\n",
    "        self.word_pad_idx = self.word_dataset.word_to_index('<PAD>')\n",
    "\n",
    "        self.model = BiLSTMTransducerSubwords(self.char_dataset.vocab_size(), self.word_dataset.vocab_size(), char_embedding_dim, word_embedding_dim, char_lstm_hidden_dim, lstm_hidden_dim, \n",
    "                                      output_dim=self.word_dataset.labels_size(), \n",
    "                                      n_layers=2, dropout=dropout, subword_pad_idx=self.char_pad_idx, word_pad_idx=self.word_pad_idx, external=external_embedding).to(self.device)\n",
    "        \n",
    "        if ner:\n",
    "            self.class_weights = self.calculate_class_weights()  # calculate class weights\n",
    "            self.loss_fn = CrossEntropyLoss(weight=self.class_weights, ignore_index=self.word_pad_idx).to(self.device)\n",
    "        else:\n",
    "            self.loss_fn = CrossEntropyLoss(ignore_index=self.word_pad_idx).to(self.device)\n",
    "        \n",
    "        self.optimizer = Adam(self.model.parameters(), lr=learning_rate, weight_decay=1e-5)\n",
    "        self.scheduler = lr_scheduler.ReduceLROnPlateau(self.optimizer, 'min', patience=patience)\n",
    "        model_name = \"NER\" if ner else \"POS\"\n",
    "        self.early_stopping = EarlyStopping(patience=patience, verbose=True, name=model_name)\n",
    "        self.img_dir = os.path.join(base_dir, \"imgs\")\n",
    "        os.makedirs(self.img_dir, exist_ok=True)\n",
    "\n",
    "    def calculate_class_weights(self):\n",
    "        class_weights = compute_class_weight('balanced', classes=np.unique(self.word_dataset.labels), y=self.word_dataset.labels)\n",
    "        return torch.Tensor(class_weights).to(self.device)\n",
    "\n",
    "    def create_dataLoader(self, dataset, batch_size=32, shuffle=True):\n",
    "        def collate_fn(batch):\n",
    "            inputs, labels = zip(*batch)\n",
    "            inputs = torch.stack(inputs).to(self.device)\n",
    "            labels = torch.stack(labels).to(self.device)\n",
    "            return inputs, labels\n",
    "\n",
    "        dataloader = DataLoader(dataset, batch_size=batch_size, shuffle=shuffle, collate_fn=collate_fn)\n",
    "        return dataloader\n",
    "\n",
    "    def train(self, num_epochs, save_path):\n",
    "        char_train_loader = self.create_dataLoader(self.char_train_dataset, self.batch_size)\n",
    "        char_dev_loader = self.create_dataLoader(self.char_dev_dataset, self.batch_size)\n",
    "        \n",
    "        word_train_loader = self.create_dataLoader(self.word_train_dataset, self.batch_size)\n",
    "        word_dev_loader = self.create_dataLoader(self.word_dev_dataset, self.batch_size)\n",
    "    \n",
    "        \n",
    "        train_loss_history = []\n",
    "        train_accuracy_history = []\n",
    "        dev_accuracy_history = []\n",
    "        label_pad_idx = self.word_dataset.label_to_index('<PAD>')\n",
    "        label_o_idx = None\n",
    "        \n",
    "        samples_since_last_eval = 0\n",
    "        for epoch in range(num_epochs):\n",
    "            self.model.train()\n",
    "            total_loss = 0\n",
    "            total_correct = 0\n",
    "            total_non_pad_tokens = 0\n",
    "    \n",
    "            for (char_batch, word_batch) in tqdm(zip(char_train_loader, word_train_loader), desc=f\"Training Epoch {epoch+1}\", unit=\"batch\"):\n",
    "                \n",
    "                char_inputs, _ = char_batch\n",
    "                word_inputs, labels = word_batch\n",
    "                \n",
    "                self.optimizer.zero_grad()\n",
    "                outputs = self.model(word_inputs, char_inputs)\n",
    "                # Compute loss only on non-pad tokens\n",
    "                loss = self.loss_fn(outputs.view(-1, outputs.shape[-1]), labels.view(-1))\n",
    "    \n",
    "                loss.backward()\n",
    "                self.optimizer.step()\n",
    "    \n",
    "                total_loss += loss.item()\n",
    "                # Calculate accuracy only on non-pad tokens\n",
    "                non_pad_mask = labels.view(-1) != label_pad_idx  # mask for non-padding tokens\n",
    "                non_O_mask = labels.view(-1) != label_o_idx if label_o_idx else True\n",
    "                valid_mask = non_pad_mask & non_O_mask\n",
    "                \n",
    "                correct_predictions = outputs.argmax(dim=-1).view(-1)[valid_mask] == labels.view(-1)[valid_mask]\n",
    "                total_correct += correct_predictions.sum().item()\n",
    "                total_non_pad_tokens += torch.sum((labels != label_pad_idx) & (labels != label_o_idx), dim=1).sum().item()\n",
    "                \n",
    "                samples_since_last_eval += len(word_inputs)\n",
    "                if samples_since_last_eval >= 500:\n",
    "                    char_dev_loader = self.create_dataLoader(self.char_dev_dataset, self.batch_size)\n",
    "                    word_dev_loader = self.create_dataLoader(self.word_dev_dataset, self.batch_size)\n",
    "    \n",
    "                    self.model.eval()\n",
    "                    total_dev_correct = 0\n",
    "                    total_dev_non_pad_tokens = 0\n",
    "                    with torch.no_grad():\n",
    "                        for (char_dev_batch, word_dev_batch) in zip(char_dev_loader, word_dev_loader):\n",
    "                            char_dev_inputs, _ = char_dev_batch\n",
    "                            word_dev_inputs, dev_labels = word_dev_batch\n",
    "                            dev_outputs = self.model(word_dev_inputs, char_dev_inputs)\n",
    "                            non_pad_mask = dev_labels.view(-1) != label_pad_idx\n",
    "                            correct_predictions = (dev_outputs.argmax(dim=-1).view(-1)[non_pad_mask]) == (dev_labels.view(-1)[non_pad_mask])\n",
    "                            total_dev_correct += correct_predictions.sum().item()\n",
    "                            total_dev_non_pad_tokens += torch.sum((dev_labels != label_pad_idx), dim=1).sum().item()\n",
    "                    \n",
    "                    dev_accuracy = total_dev_correct / total_dev_non_pad_tokens\n",
    "                    dev_accuracy_history.append(dev_accuracy)\n",
    "                    samples_since_last_eval = 0\n",
    "                    self.model.train()\n",
    "    \n",
    "            avg_loss = total_loss / len(word_train_loader)\n",
    "            train_loss_history.append(avg_loss)\n",
    "            self.scheduler.step(avg_loss)\n",
    "    \n",
    "            # Compute accuracy on non-pad tokens\n",
    "            accuracy = total_correct / total_non_pad_tokens\n",
    "            train_accuracy_history.append(accuracy)\n",
    "    \n",
    "            print(f'Epoch {epoch+1}/{num_epochs}, Train Loss: {avg_loss:.4f}, Train Accuracy: {accuracy:.4f}')\n",
    "            self.early_stopping(dev_accuracy_history[-1], self.model)\n",
    "\n",
    "            if self.early_stopping.early_stop:\n",
    "                print(\"Early stopping\")\n",
    "                break\n",
    "                \n",
    "        if self.c_task:\n",
    "            with open(DATASETS_3_C_DATA_WORDS, 'wb') as output:\n",
    "                pickle.dump(self.word_dataset, output, pickle.HIGHEST_PROTOCOL)  \n",
    "                \n",
    "            with open(DATASETS_3_C_DATA_SUBWORDS, 'wb') as output:\n",
    "                pickle.dump(self.char_dataset, output, pickle.HIGHEST_PROTOCOL)  \n",
    "                \n",
    "        else:\n",
    "            with open(DATASETS_3_D_DATA_WORDS, 'wb') as output:\n",
    "                pickle.dump(self.word_dataset, output, pickle.HIGHEST_PROTOCOL)  \n",
    "                \n",
    "            with open(DATASETS_3_D_DATA_CHARS, 'wb') as output:\n",
    "                pickle.dump(self.char_dataset, output, pickle.HIGHEST_PROTOCOL)  \n",
    "                \n",
    "        torch.save(self.model, save_path) if save_path else None\n",
    "        return dev_accuracy_history\n",
    "\n",
    "    def predict(self, path, filename):\n",
    "        char_test_loader = self.create_dataLoader(self.char_test_dataset, self.batch_size)\n",
    "        word_test_loader = self.create_dataLoader(self.word_test_dataset, self.batch_size)\n",
    "        \n",
    "        self.model.eval()\n",
    "        predictions = []\n",
    "        \n",
    "        with torch.no_grad():\n",
    "            for (char_dev_batch, word_dev_batch) in zip(char_dev_loader, word_dev_loader):\n",
    "                char_dev_inputs, _ = char_dev_batch\n",
    "                word_dev_inputs, dev_labels = word_dev_batch\n",
    "                dev_outputs = self.model(word_dev_inputs, char_dev_inputs)\n",
    "                non_pad_mask = dev_labels.view(-1) != label_pad_idx\n",
    "                _, predicted = torch.max(outputs, 1)\n",
    "                predictions.extend(predicted.cpu().numpy())\n",
    "\n",
    "        full_path = os.path.join(path, filename)\n",
    "        with open(full_path, 'w') as file:\n",
    "            for prediction in predictions:\n",
    "                file.write(str(prediction) + '\\n')\n",
    "\n",
    "        print(f'Predictions written to {full_path}')\n",
    "\n",
    "    def load_test(self, test_dataset_path, model_path, dataset_path_word=DATASETS_3_C_DATA_WORDS, dataset_path_subword=DATASETS_3_C_DATA_SUBWORDS):\n",
    "        \"\"\"\n",
    "        Load the test dataset and model\n",
    "        \"\"\" \n",
    "        if not self.c_task:\n",
    "            dataset_path_word = DATASETS_3_D_DATA_WORDS\n",
    "            dataset_path_subword = DATASETS_3_D_DATA_CHARS\n",
    "            \n",
    "        # Load the dataset from pickle file\n",
    "        with open(dataset_path, 'rb') as dataset_file:\n",
    "            self.word_dataset = pickle.load(dataset_path_word)\n",
    "            self.char_dataset = pickle.load(dataset_path_word)\n",
    "        \n",
    "        # Create the test dataset\n",
    "        self.word_test_dataset = self.word_dataset.create_pytorch_dataset(test_dataset_path)\n",
    "        self.char_test_dataset = self.char_dataset.create_pytorch_dataset(test_dataset_path) if test_dataset_path else test_dataset_path\n",
    "        \n",
    "        # Load the model state dict\n",
    "        self.model = torch.load(model_path).to(self.device)\n",
    "        \n",
    "    def run(self, num_epoch=5, task=\"C\", save_path=None):\n",
    "        print(f\"Starting training Task ({task})...\")\n",
    "        dev_acc = self.train(num_epoch, save_path)\n",
    "        print(f\"Training complete. Task ({task})\")\n",
    "        return dev_acc"
   ]
  },
  {
   "cell_type": "markdown",
   "metadata": {
    "id": "ZikR1GByv4V3"
   },
   "source": [
    "## A. an embedding vector: repr(wi) = E[wi]"
   ]
  },
  {
   "cell_type": "code",
   "execution_count": 16,
   "metadata": {},
   "outputs": [],
   "source": [
    "dev_acc_POS = {}\n",
    "dev_acc_NER = {}"
   ]
  },
  {
   "cell_type": "code",
   "execution_count": 17,
   "metadata": {},
   "outputs": [],
   "source": [
    "class EarlyStopping:\n",
    "    def __init__(self, patience=3, verbose=False, checkpoint_path=MODEL_3_A, name=\"POS\"):\n",
    "        self.patience = patience\n",
    "        self.verbose = verbose\n",
    "        self.counter = 0\n",
    "        self.best_score = None\n",
    "        self.early_stop = False\n",
    "        self.checkpoint_path = checkpoint_path\n",
    "        self.best_model = None\n",
    "        self.model_name = name\n",
    "\n",
    "    def __call__(self, val_accuracy, model):\n",
    "        score = val_accuracy\n",
    "\n",
    "        if self.best_score is None:\n",
    "            self.best_score = score\n",
    "            self.save_checkpoint(val_accuracy, model)\n",
    "        elif score < self.best_score:\n",
    "            self.counter += 1\n",
    "            if self.verbose:\n",
    "                print(f'EarlyStopping counter: {self.counter} out of {self.patience}')\n",
    "            if self.counter >= self.patience:\n",
    "                self.early_stop = True\n",
    "        else:\n",
    "            self.best_score = score\n",
    "            self.save_checkpoint(val_accuracy, model)\n",
    "            self.counter = 0\n",
    "\n",
    "    def save_checkpoint(self, val_accuracy, model):\n",
    "        '''Saves model when validation accuracy increases.'''\n",
    "        if self.checkpoint_path is not None:\n",
    "            torch.save(model.state_dict(), f\"{self.checkpoint_path}/{self.model_name}\")\n",
    "            self.best_model = model\n",
    "            if self.verbose:\n",
    "                print(f'Validation accuracy increased ({self.best_score:.6f} --> {val_accuracy:.6f}).  Saving model ...')\n"
   ]
  },
  {
   "cell_type": "markdown",
   "metadata": {
    "id": "qdgzaxfp4zfK"
   },
   "source": [
    "### Part Of Speech"
   ]
  },
  {
   "cell_type": "code",
   "execution_count": 18,
   "metadata": {},
   "outputs": [
    {
     "name": "stdout",
     "output_type": "stream",
     "text": [
      "Data from EX3/data/3/pos/train has been loaded successfully.\n",
      "Data from EX3/data/3/pos/train has been loaded successfully.\n",
      "Data from EX3/data/3/pos/train has been loaded successfully.\n"
     ]
    }
   ],
   "source": [
    "experiment3A = Runner_A(train_dataset_path=POS_TRAIN_3, test_dataset_path=POS_TRAIN_3, dev_dataset_path=POS_TRAIN_3, base_dir=PREDS_3_A, delimiter=' ', batch_size=32, learning_rate=0.001, embedding_dim=10, lstm_hidden_dim=64, dropout=0)\n"
   ]
  },
  {
   "cell_type": "code",
   "execution_count": 22,
   "metadata": {},
   "outputs": [
    {
     "name": "stdout",
     "output_type": "stream",
     "text": [
      "Starting training (Task A)...\n"
     ]
    },
    {
     "name": "stderr",
     "output_type": "stream",
     "text": [
      "Training Epoch 1: 100%|██████████| 1183/1183 [04:30<00:00,  4.38batch/s]"
     ]
    },
    {
     "name": "stdout",
     "output_type": "stream",
     "text": [
      "Epoch 1/1, Train Loss: 0.2612, Train Accuracy: 0.9230\n",
      "Validation accuracy increased (0.936675 --> 0.936675).  Saving model ...\n",
      "Training complete. (Task A)\n"
     ]
    },
    {
     "name": "stderr",
     "output_type": "stream",
     "text": [
      "\n"
     ]
    }
   ],
   "source": [
    "dev_acc_POS['a'] = (experiment3A.run(1, save_path='EX3/model.pt'))"
   ]
  },
  {
   "cell_type": "code",
   "execution_count": 27,
   "metadata": {},
   "outputs": [
    {
     "name": "stdout",
     "output_type": "stream",
     "text": [
      "Data from EX3/data/3/pos/test has been loaded successfully.\n",
      "Data from EX3/data/3/pos/test has been loaded successfully.\n",
      "Data from EX3/data/3/pos/test has been loaded successfully.\n"
     ]
    }
   ],
   "source": [
    "experiment3A = Runner_A(train_dataset_path=POS_TEST_3, test_dataset_path=POS_TEST_3, dev_dataset_path=POS_TEST_3, base_dir=PREDS_3_A, delimiter=' ', batch_size=32, learning_rate=0.001, embedding_dim=10, lstm_hidden_dim=64, dropout=0)\n"
   ]
  },
  {
   "cell_type": "code",
   "execution_count": 28,
   "metadata": {},
   "outputs": [
    {
     "name": "stdout",
     "output_type": "stream",
     "text": [
      "Data from EX3/data/3/pos/test has been loaded successfully.\n"
     ]
    }
   ],
   "source": [
    "experiment3A.load_test(POS_TEST_3, 'EX3/model.pt')"
   ]
  },
  {
   "cell_type": "code",
   "execution_count": 152,
   "metadata": {
    "colab": {
     "base_uri": "https://localhost:8080/",
     "height": 1000
    },
    "id": "UPVMauUBNZTc",
    "outputId": "39edf4f6-24d6-489d-a599-473c2cc14be1"
   },
   "outputs": [
    {
     "name": "stdout",
     "output_type": "stream",
     "text": [
      "Data from EX3/data/3/pos/train has been loaded successfully.\n",
      "Data from EX3/data/3/pos/test has been loaded successfully.\n",
      "Data from EX3/data/3/pos/dev has been loaded successfully.\n",
      "Starting training (Task A)...\n"
     ]
    },
    {
     "name": "stderr",
     "output_type": "stream",
     "text": [
      "Training Epoch 1: 100%|██████████| 1183/1183 [00:39<00:00, 29.88batch/s]\n"
     ]
    },
    {
     "name": "stdout",
     "output_type": "stream",
     "text": [
      "Epoch 1/5, Train Loss: 1.3763, Train Accuracy: 0.6005\n",
      "Validation accuracy increased (0.768945 --> 0.768945).  Saving model ...\n"
     ]
    },
    {
     "name": "stderr",
     "output_type": "stream",
     "text": [
      "Training Epoch 2: 100%|██████████| 1183/1183 [00:38<00:00, 30.53batch/s]\n"
     ]
    },
    {
     "name": "stdout",
     "output_type": "stream",
     "text": [
      "Epoch 2/5, Train Loss: 0.5715, Train Accuracy: 0.8291\n",
      "Validation accuracy increased (0.860782 --> 0.860782).  Saving model ...\n"
     ]
    },
    {
     "name": "stderr",
     "output_type": "stream",
     "text": [
      "Training Epoch 3: 100%|██████████| 1183/1183 [00:39<00:00, 30.20batch/s]\n"
     ]
    },
    {
     "name": "stdout",
     "output_type": "stream",
     "text": [
      "Epoch 3/5, Train Loss: 0.3629, Train Accuracy: 0.8927\n",
      "Validation accuracy increased (0.900165 --> 0.900165).  Saving model ...\n"
     ]
    },
    {
     "name": "stderr",
     "output_type": "stream",
     "text": [
      "Training Epoch 4: 100%|██████████| 1183/1183 [00:38<00:00, 30.52batch/s]\n"
     ]
    },
    {
     "name": "stdout",
     "output_type": "stream",
     "text": [
      "Epoch 4/5, Train Loss: 0.2617, Train Accuracy: 0.9225\n",
      "Validation accuracy increased (0.917810 --> 0.917810).  Saving model ...\n"
     ]
    },
    {
     "name": "stderr",
     "output_type": "stream",
     "text": [
      "Training Epoch 5: 100%|██████████| 1183/1183 [00:38<00:00, 30.47batch/s]"
     ]
    },
    {
     "name": "stdout",
     "output_type": "stream",
     "text": [
      "Epoch 5/5, Train Loss: 0.2029, Train Accuracy: 0.9395\n",
      "Validation accuracy increased (0.928856 --> 0.928856).  Saving model ...\n",
      "Training complete. (Task A)\n"
     ]
    },
    {
     "name": "stderr",
     "output_type": "stream",
     "text": [
      "\n"
     ]
    }
   ],
   "source": [
    "experiment3A = Runner_A(train_dataset_path=POS_TRAIN_3, test_dataset_path=POS_TEST_3, dev_dataset_path=POS_DEV_3, base_dir=PREDS_3_A, delimiter=' ', batch_size=32, learning_rate=0.001, embedding_dim=10, lstm_hidden_dim=64, dropout=0)\n",
    "dev_acc_POS['a'] = (experiment3A.run(5))"
   ]
  },
  {
   "cell_type": "markdown",
   "metadata": {
    "id": "mZHCunS243Au"
   },
   "source": [
    "### Named Entity Recognition:"
   ]
  },
  {
   "cell_type": "code",
   "execution_count": 153,
   "metadata": {
    "id": "K4qOyoFf3pWZ"
   },
   "outputs": [
    {
     "name": "stdout",
     "output_type": "stream",
     "text": [
      "Data from EX3/data/3/ner/train has been loaded successfully.\n",
      "Data from EX3/data/3/ner/test has been loaded successfully.\n",
      "Data from EX3/data/3/ner/dev has been loaded successfully.\n",
      "Starting training (Task A)...\n"
     ]
    },
    {
     "name": "stderr",
     "output_type": "stream",
     "text": [
      "Training Epoch 1: 100%|██████████| 469/469 [00:19<00:00, 24.10batch/s]\n"
     ]
    },
    {
     "name": "stdout",
     "output_type": "stream",
     "text": [
      "Epoch 1/5, Train Loss: 0.6010, Train Accuracy: 0.8399\n",
      "Validation accuracy increased (0.870701 --> 0.870701).  Saving model ...\n"
     ]
    },
    {
     "name": "stderr",
     "output_type": "stream",
     "text": [
      "Training Epoch 2: 100%|██████████| 469/469 [00:19<00:00, 24.08batch/s]\n"
     ]
    },
    {
     "name": "stdout",
     "output_type": "stream",
     "text": [
      "Epoch 2/5, Train Loss: 0.3948, Train Accuracy: 0.8793\n",
      "Validation accuracy increased (0.887452 --> 0.887452).  Saving model ...\n"
     ]
    },
    {
     "name": "stderr",
     "output_type": "stream",
     "text": [
      "Training Epoch 3: 100%|██████████| 469/469 [00:19<00:00, 24.19batch/s]\n"
     ]
    },
    {
     "name": "stdout",
     "output_type": "stream",
     "text": [
      "Epoch 3/5, Train Loss: 0.3091, Train Accuracy: 0.9010\n",
      "Validation accuracy increased (0.898542 --> 0.898542).  Saving model ...\n"
     ]
    },
    {
     "name": "stderr",
     "output_type": "stream",
     "text": [
      "Training Epoch 4: 100%|██████████| 469/469 [00:20<00:00, 23.18batch/s]\n"
     ]
    },
    {
     "name": "stdout",
     "output_type": "stream",
     "text": [
      "Epoch 4/5, Train Loss: 0.2455, Train Accuracy: 0.9222\n",
      "Validation accuracy increased (0.921750 --> 0.921750).  Saving model ...\n"
     ]
    },
    {
     "name": "stderr",
     "output_type": "stream",
     "text": [
      "Training Epoch 5: 100%|██████████| 469/469 [00:19<00:00, 23.59batch/s]"
     ]
    },
    {
     "name": "stdout",
     "output_type": "stream",
     "text": [
      "Epoch 5/5, Train Loss: 0.1942, Train Accuracy: 0.9391\n",
      "Validation accuracy increased (0.936097 --> 0.936097).  Saving model ...\n",
      "Training complete. (Task A)\n"
     ]
    },
    {
     "name": "stderr",
     "output_type": "stream",
     "text": [
      "\n"
     ]
    }
   ],
   "source": [
    "experiment3A = Runner_A(train_dataset_path=NER_TRAIN_3, test_dataset_path=NER_TEST_3, dev_dataset_path=NER_DEV_3, base_dir=PREDS_3_A, delimiter='\t', batch_size=32, learning_rate=0.001, embedding_dim=10, lstm_hidden_dim=64, dropout=0, ner=True)\n",
    "dev_acc_NER['a'] = (experiment3A.run(5))"
   ]
  },
  {
   "cell_type": "markdown",
   "metadata": {
    "id": "B8jGMZVq5uf9"
   },
   "source": [
    "## b: a character-level LSTM: repr(wi) = repr(c1, c2, ..., cmi ) = LST MC (E[c1], ..., E[cmi ])."
   ]
  },
  {
   "cell_type": "markdown",
   "metadata": {
    "id": "qdgzaxfp4zfK"
   },
   "source": [
    "### Part Of Speech"
   ]
  },
  {
   "cell_type": "code",
   "execution_count": 154,
   "metadata": {
    "colab": {
     "base_uri": "https://localhost:8080/",
     "height": 670
    },
    "id": "LfDxGOEKDvkD",
    "outputId": "c9b4ac13-7a0e-45b8-aff0-c03ac90ebcbb"
   },
   "outputs": [
    {
     "name": "stdout",
     "output_type": "stream",
     "text": [
      "Data from EX3/data/3/pos/train has been loaded successfully.\n",
      "Data from EX3/data/3/pos/test has been loaded successfully.\n",
      "Data from EX3/data/3/pos/dev has been loaded successfully.\n",
      "Starting training (Task B)...\n"
     ]
    },
    {
     "name": "stderr",
     "output_type": "stream",
     "text": [
      "Training Epoch 1: 100%|██████████| 1183/1183 [02:03<00:00,  9.60batch/s]\n"
     ]
    },
    {
     "name": "stdout",
     "output_type": "stream",
     "text": [
      "Epoch 1/5, Train Loss: 1.2206, Train Accuracy: 0.6465\n",
      "Validation accuracy increased (0.837750 --> 0.837750).  Saving model ...\n"
     ]
    },
    {
     "name": "stderr",
     "output_type": "stream",
     "text": [
      "Training Epoch 2: 100%|██████████| 1183/1183 [02:05<00:00,  9.42batch/s]\n"
     ]
    },
    {
     "name": "stdout",
     "output_type": "stream",
     "text": [
      "Epoch 2/5, Train Loss: 0.4157, Train Accuracy: 0.8732\n",
      "Validation accuracy increased (0.893191 --> 0.893191).  Saving model ...\n"
     ]
    },
    {
     "name": "stderr",
     "output_type": "stream",
     "text": [
      "Training Epoch 3: 100%|██████████| 1183/1183 [02:06<00:00,  9.38batch/s]\n"
     ]
    },
    {
     "name": "stdout",
     "output_type": "stream",
     "text": [
      "Epoch 3/5, Train Loss: 0.3091, Train Accuracy: 0.9027\n",
      "Validation accuracy increased (0.911295 --> 0.911295).  Saving model ...\n"
     ]
    },
    {
     "name": "stderr",
     "output_type": "stream",
     "text": [
      "Training Epoch 4: 100%|██████████| 1183/1183 [02:08<00:00,  9.22batch/s]\n"
     ]
    },
    {
     "name": "stdout",
     "output_type": "stream",
     "text": [
      "Epoch 4/5, Train Loss: 0.2573, Train Accuracy: 0.9182\n",
      "Validation accuracy increased (0.922926 --> 0.922926).  Saving model ...\n"
     ]
    },
    {
     "name": "stderr",
     "output_type": "stream",
     "text": [
      "Training Epoch 5: 100%|██████████| 1183/1183 [02:05<00:00,  9.45batch/s]"
     ]
    },
    {
     "name": "stdout",
     "output_type": "stream",
     "text": [
      "Epoch 5/5, Train Loss: 0.2278, Train Accuracy: 0.9267\n",
      "Validation accuracy increased (0.929796 --> 0.929796).  Saving model ...\n",
      "Training complete. (Task B)\n"
     ]
    },
    {
     "name": "stderr",
     "output_type": "stream",
     "text": [
      "\n"
     ]
    }
   ],
   "source": [
    "experiment3A = Runner_B(train_dataset_path=POS_TRAIN_3, test_dataset_path=POS_TEST_3, dev_dataset_path=POS_DEV_3, base_dir=PREDS_3_A, delimiter=' ', batch_size=32, learning_rate=0.001, char_embedding_dim=10, lstm_hidden_dim=64, dropout=0)\n",
    "dev_acc_POS['b'] = (experiment3A.run(5))"
   ]
  },
  {
   "cell_type": "markdown",
   "metadata": {
    "id": "mZHCunS243Au"
   },
   "source": [
    "### Named Entity Recognition:"
   ]
  },
  {
   "cell_type": "code",
   "execution_count": 155,
   "metadata": {
    "id": "K4qOyoFf3pWZ"
   },
   "outputs": [
    {
     "name": "stdout",
     "output_type": "stream",
     "text": [
      "Data from EX3/data/3/ner/train has been loaded successfully.\n",
      "Data from EX3/data/3/ner/test has been loaded successfully.\n",
      "Data from EX3/data/3/ner/dev has been loaded successfully.\n",
      "Starting training (Task B)...\n"
     ]
    },
    {
     "name": "stderr",
     "output_type": "stream",
     "text": [
      "Training Epoch 1: 100%|██████████| 469/469 [01:09<00:00,  6.76batch/s]\n"
     ]
    },
    {
     "name": "stdout",
     "output_type": "stream",
     "text": [
      "Epoch 1/5, Train Loss: 0.5930, Train Accuracy: 0.8387\n",
      "Validation accuracy increased (0.881577 --> 0.881577).  Saving model ...\n"
     ]
    },
    {
     "name": "stderr",
     "output_type": "stream",
     "text": [
      "Training Epoch 2: 100%|██████████| 469/469 [01:09<00:00,  6.72batch/s]\n"
     ]
    },
    {
     "name": "stdout",
     "output_type": "stream",
     "text": [
      "Epoch 2/5, Train Loss: 0.2713, Train Accuracy: 0.8959\n",
      "Validation accuracy increased (0.908663 --> 0.908663).  Saving model ...\n"
     ]
    },
    {
     "name": "stderr",
     "output_type": "stream",
     "text": [
      "Training Epoch 3: 100%|██████████| 469/469 [01:08<00:00,  6.83batch/s]\n"
     ]
    },
    {
     "name": "stdout",
     "output_type": "stream",
     "text": [
      "Epoch 3/5, Train Loss: 0.2209, Train Accuracy: 0.9184\n",
      "Validation accuracy increased (0.926771 --> 0.926771).  Saving model ...\n"
     ]
    },
    {
     "name": "stderr",
     "output_type": "stream",
     "text": [
      "Training Epoch 4: 100%|██████████| 469/469 [01:10<00:00,  6.68batch/s]\n"
     ]
    },
    {
     "name": "stdout",
     "output_type": "stream",
     "text": [
      "Epoch 4/5, Train Loss: 0.1865, Train Accuracy: 0.9344\n",
      "Validation accuracy increased (0.935748 --> 0.935748).  Saving model ...\n"
     ]
    },
    {
     "name": "stderr",
     "output_type": "stream",
     "text": [
      "Training Epoch 5: 100%|██████████| 469/469 [01:09<00:00,  6.75batch/s]"
     ]
    },
    {
     "name": "stdout",
     "output_type": "stream",
     "text": [
      "Epoch 5/5, Train Loss: 0.1633, Train Accuracy: 0.9434\n",
      "Validation accuracy increased (0.943464 --> 0.943464).  Saving model ...\n",
      "Training complete. (Task B)\n"
     ]
    },
    {
     "name": "stderr",
     "output_type": "stream",
     "text": [
      "\n"
     ]
    }
   ],
   "source": [
    "experiment3A = Runner_B(train_dataset_path=NER_TRAIN_3, test_dataset_path=NER_TEST_3, dev_dataset_path=NER_DEV_3, base_dir=PREDS_3_A, delimiter='\t', batch_size=32, learning_rate=0.001, char_embedding_dim=10, lstm_hidden_dim=64, dropout=0, ner=True)\n",
    "dev_acc_NER['b'] = (experiment3A.run(5))"
   ]
  },
  {
   "cell_type": "markdown",
   "metadata": {
    "id": "B8jGMZVq5uf9"
   },
   "source": [
    "## c. the embeddings+subword representation used in assignment 2"
   ]
  },
  {
   "cell_type": "markdown",
   "metadata": {
    "id": "qdgzaxfp4zfK"
   },
   "source": [
    "### Part Of Speech"
   ]
  },
  {
   "cell_type": "code",
   "execution_count": 156,
   "metadata": {
    "colab": {
     "base_uri": "https://localhost:8080/",
     "height": 670
    },
    "id": "LfDxGOEKDvkD",
    "outputId": "c9b4ac13-7a0e-45b8-aff0-c03ac90ebcbb"
   },
   "outputs": [
    {
     "name": "stdout",
     "output_type": "stream",
     "text": [
      "Data from EX3/data/3/pos/train has been loaded successfully.\n",
      "Data from EX3/data/3/pos/test has been loaded successfully.\n",
      "Data from EX3/data/3/pos/dev has been loaded successfully.\n",
      "Data from EX3/data/3/pos/train has been loaded successfully.\n",
      "Data from EX3/data/3/pos/test has been loaded successfully.\n",
      "Data from EX3/data/3/pos/dev has been loaded successfully.\n",
      "Starting training Task (C)...\n"
     ]
    },
    {
     "name": "stderr",
     "output_type": "stream",
     "text": [
      "Training Epoch 1: 1183batch [01:24, 14.04batch/s]\n"
     ]
    },
    {
     "name": "stdout",
     "output_type": "stream",
     "text": [
      "Epoch 1/5, Train Loss: 1.4176, Train Accuracy: 0.6341\n",
      "Validation accuracy increased (0.859947 --> 0.859947).  Saving model ...\n"
     ]
    },
    {
     "name": "stderr",
     "output_type": "stream",
     "text": [
      "Training Epoch 2: 1183batch [01:23, 14.10batch/s]\n"
     ]
    },
    {
     "name": "stdout",
     "output_type": "stream",
     "text": [
      "Epoch 2/5, Train Loss: 0.4711, Train Accuracy: 0.8770\n",
      "Validation accuracy increased (0.909771 --> 0.909771).  Saving model ...\n"
     ]
    },
    {
     "name": "stderr",
     "output_type": "stream",
     "text": [
      "Training Epoch 3: 1183batch [01:23, 14.14batch/s]\n"
     ]
    },
    {
     "name": "stdout",
     "output_type": "stream",
     "text": [
      "Epoch 3/5, Train Loss: 0.3255, Train Accuracy: 0.9122\n",
      "Validation accuracy increased (0.921214 --> 0.921214).  Saving model ...\n"
     ]
    },
    {
     "name": "stderr",
     "output_type": "stream",
     "text": [
      "Training Epoch 4: 1183batch [01:24, 13.99batch/s]\n"
     ]
    },
    {
     "name": "stdout",
     "output_type": "stream",
     "text": [
      "Epoch 4/5, Train Loss: 0.2628, Train Accuracy: 0.9271\n",
      "Validation accuracy increased (0.925745 --> 0.925745).  Saving model ...\n"
     ]
    },
    {
     "name": "stderr",
     "output_type": "stream",
     "text": [
      "Training Epoch 5: 1183batch [01:23, 14.24batch/s]\n"
     ]
    },
    {
     "name": "stdout",
     "output_type": "stream",
     "text": [
      "Epoch 5/5, Train Loss: 0.2288, Train Accuracy: 0.9351\n",
      "Validation accuracy increased (0.928856 --> 0.928856).  Saving model ...\n",
      "Training complete. Task (C)\n"
     ]
    }
   ],
   "source": [
    "experiment3A = Runner_C(train_dataset_path=POS_TRAIN_3, test_dataset_path=POS_TEST_3, dev_dataset_path=POS_DEV_3, base_dir=PREDS_3_A, delimiter=' ', batch_size=32, external_embedding=True)\n",
    "dev_acc_POS['c'] = (experiment3A.run(5))"
   ]
  },
  {
   "cell_type": "markdown",
   "metadata": {
    "id": "mZHCunS243Au"
   },
   "source": [
    "### Named Entity Recognition:"
   ]
  },
  {
   "cell_type": "code",
   "execution_count": 157,
   "metadata": {},
   "outputs": [
    {
     "name": "stdout",
     "output_type": "stream",
     "text": [
      "Data from EX3/data/3/ner/train has been loaded successfully.\n",
      "Data from EX3/data/3/ner/test has been loaded successfully.\n",
      "Data from EX3/data/3/ner/dev has been loaded successfully.\n",
      "Data from EX3/data/3/ner/train has been loaded successfully.\n",
      "Data from EX3/data/3/ner/test has been loaded successfully.\n",
      "Data from EX3/data/3/ner/dev has been loaded successfully.\n",
      "Starting training Task (C)...\n"
     ]
    },
    {
     "name": "stderr",
     "output_type": "stream",
     "text": [
      "Training Epoch 1: 469batch [00:43, 10.78batch/s]\n"
     ]
    },
    {
     "name": "stdout",
     "output_type": "stream",
     "text": [
      "Epoch 1/5, Train Loss: 0.6054, Train Accuracy: 0.8369\n",
      "Validation accuracy increased (0.870041 --> 0.870041).  Saving model ...\n"
     ]
    },
    {
     "name": "stderr",
     "output_type": "stream",
     "text": [
      "Training Epoch 2: 469batch [00:43, 10.75batch/s]\n"
     ]
    },
    {
     "name": "stdout",
     "output_type": "stream",
     "text": [
      "Epoch 2/5, Train Loss: 0.3206, Train Accuracy: 0.8863\n",
      "Validation accuracy increased (0.908760 --> 0.908760).  Saving model ...\n"
     ]
    },
    {
     "name": "stderr",
     "output_type": "stream",
     "text": [
      "Training Epoch 3: 469batch [00:44, 10.54batch/s]\n"
     ]
    },
    {
     "name": "stdout",
     "output_type": "stream",
     "text": [
      "Epoch 3/5, Train Loss: 0.2289, Train Accuracy: 0.9237\n",
      "Validation accuracy increased (0.937260 --> 0.937260).  Saving model ...\n"
     ]
    },
    {
     "name": "stderr",
     "output_type": "stream",
     "text": [
      "Training Epoch 4: 469batch [00:43, 10.72batch/s]\n"
     ]
    },
    {
     "name": "stdout",
     "output_type": "stream",
     "text": [
      "Epoch 4/5, Train Loss: 0.1584, Train Accuracy: 0.9505\n",
      "Validation accuracy increased (0.951239 --> 0.951239).  Saving model ...\n"
     ]
    },
    {
     "name": "stderr",
     "output_type": "stream",
     "text": [
      "Training Epoch 5: 469batch [00:43, 10.76batch/s]\n"
     ]
    },
    {
     "name": "stdout",
     "output_type": "stream",
     "text": [
      "Epoch 5/5, Train Loss: 0.1108, Train Accuracy: 0.9670\n",
      "Validation accuracy increased (0.955718 --> 0.955718).  Saving model ...\n",
      "Training complete. Task (C)\n"
     ]
    }
   ],
   "source": [
    "experiment3A = Runner_C(train_dataset_path=NER_TRAIN_3, test_dataset_path=NER_TEST_3, dev_dataset_path=NER_DEV_3, base_dir=PREDS_3_A, delimiter='\t', batch_size=32, external_embedding=True)\n",
    "dev_acc_NER['c'] = (experiment3A.run(5))"
   ]
  },
  {
   "cell_type": "markdown",
   "metadata": {
    "id": "B8jGMZVq5uf9"
   },
   "source": [
    "## d) a concatenation of (a) and (b) followed by a linear layer."
   ]
  },
  {
   "cell_type": "markdown",
   "metadata": {
    "id": "qdgzaxfp4zfK"
   },
   "source": [
    "### Part Of Speech"
   ]
  },
  {
   "cell_type": "code",
   "execution_count": 183,
   "metadata": {
    "colab": {
     "base_uri": "https://localhost:8080/",
     "height": 670
    },
    "id": "LfDxGOEKDvkD",
    "outputId": "c9b4ac13-7a0e-45b8-aff0-c03ac90ebcbb"
   },
   "outputs": [
    {
     "name": "stdout",
     "output_type": "stream",
     "text": [
      "Data from EX3/data/3/pos/train has been loaded successfully.\n",
      "Data from EX3/data/3/pos/test has been loaded successfully.\n",
      "Data from EX3/data/3/pos/dev has been loaded successfully.\n",
      "Data from EX3/data/3/pos/train has been loaded successfully.\n",
      "Data from EX3/data/3/pos/test has been loaded successfully.\n",
      "Data from EX3/data/3/pos/dev has been loaded successfully.\n",
      "Starting training Task (C)...\n"
     ]
    },
    {
     "name": "stderr",
     "output_type": "stream",
     "text": [
      "Training Epoch 1: 1183batch [02:43,  7.23batch/s]\n"
     ]
    },
    {
     "name": "stdout",
     "output_type": "stream",
     "text": [
      "Epoch 1/5, Train Loss: 1.6721, Train Accuracy: 0.5333\n",
      "Validation accuracy increased (0.782622 --> 0.782622).  Saving model ...\n"
     ]
    },
    {
     "name": "stderr",
     "output_type": "stream",
     "text": [
      "Training Epoch 2: 1183batch [02:44,  7.19batch/s]\n"
     ]
    },
    {
     "name": "stdout",
     "output_type": "stream",
     "text": [
      "Epoch 2/5, Train Loss: 0.6337, Train Accuracy: 0.8295\n",
      "Validation accuracy increased (0.879993 --> 0.879993).  Saving model ...\n"
     ]
    },
    {
     "name": "stderr",
     "output_type": "stream",
     "text": [
      "Training Epoch 3: 1183batch [02:45,  7.16batch/s]\n"
     ]
    },
    {
     "name": "stdout",
     "output_type": "stream",
     "text": [
      "Epoch 3/5, Train Loss: 0.3939, Train Accuracy: 0.8942\n",
      "Validation accuracy increased (0.909833 --> 0.909833).  Saving model ...\n"
     ]
    },
    {
     "name": "stderr",
     "output_type": "stream",
     "text": [
      "Training Epoch 4: 1183batch [02:45,  7.17batch/s]\n"
     ]
    },
    {
     "name": "stdout",
     "output_type": "stream",
     "text": [
      "Epoch 4/5, Train Loss: 0.2955, Train Accuracy: 0.9191\n",
      "Validation accuracy increased (0.921986 --> 0.921986).  Saving model ...\n"
     ]
    },
    {
     "name": "stderr",
     "output_type": "stream",
     "text": [
      "Training Epoch 5: 1183batch [02:45,  7.13batch/s]"
     ]
    },
    {
     "name": "stdout",
     "output_type": "stream",
     "text": [
      "Epoch 5/5, Train Loss: 0.2474, Train Accuracy: 0.9308\n",
      "Validation accuracy increased (0.926747 --> 0.926747).  Saving model ...\n",
      "Training complete. Task (C)\n"
     ]
    },
    {
     "name": "stderr",
     "output_type": "stream",
     "text": [
      "\n"
     ]
    }
   ],
   "source": [
    "experiment3A = Runner_C(train_dataset_path=POS_TRAIN_3, test_dataset_path=POS_TEST_3, dev_dataset_path=POS_DEV_3, base_dir=PREDS_3_A, delimiter=' ', batch_size=32, c_task=False)\n",
    "dev_acc_POS['d'] = (experiment3A.run(5))"
   ]
  },
  {
   "cell_type": "markdown",
   "metadata": {
    "id": "mZHCunS243Au"
   },
   "source": [
    "### Named Entity Recognition:"
   ]
  },
  {
   "cell_type": "code",
   "execution_count": 186,
   "metadata": {},
   "outputs": [
    {
     "name": "stdout",
     "output_type": "stream",
     "text": [
      "Data from EX3/data/3/ner/train has been loaded successfully.\n",
      "Data from EX3/data/3/ner/test has been loaded successfully.\n",
      "Data from EX3/data/3/ner/dev has been loaded successfully.\n",
      "Data from EX3/data/3/ner/train has been loaded successfully.\n",
      "Data from EX3/data/3/ner/test has been loaded successfully.\n",
      "Data from EX3/data/3/ner/dev has been loaded successfully.\n",
      "Starting training Task (C)...\n"
     ]
    },
    {
     "name": "stderr",
     "output_type": "stream",
     "text": [
      "Training Epoch 1: 469batch [01:30,  5.17batch/s]\n"
     ]
    },
    {
     "name": "stdout",
     "output_type": "stream",
     "text": [
      "Epoch 1/5, Train Loss: 0.7016, Train Accuracy: 0.8122\n",
      "Validation accuracy increased (0.840785 --> 0.840785).  Saving model ...\n"
     ]
    },
    {
     "name": "stderr",
     "output_type": "stream",
     "text": [
      "Training Epoch 2: 469batch [01:29,  5.27batch/s]\n"
     ]
    },
    {
     "name": "stdout",
     "output_type": "stream",
     "text": [
      "Epoch 2/5, Train Loss: 0.4079, Train Accuracy: 0.8650\n",
      "Validation accuracy increased (0.885261 --> 0.885261).  Saving model ...\n"
     ]
    },
    {
     "name": "stderr",
     "output_type": "stream",
     "text": [
      "Training Epoch 3: 469batch [01:29,  5.25batch/s]\n"
     ]
    },
    {
     "name": "stdout",
     "output_type": "stream",
     "text": [
      "Epoch 3/5, Train Loss: 0.2887, Train Accuracy: 0.9039\n",
      "Validation accuracy increased (0.919074 --> 0.919074).  Saving model ...\n"
     ]
    },
    {
     "name": "stderr",
     "output_type": "stream",
     "text": [
      "Training Epoch 4: 469batch [01:33,  5.04batch/s]\n"
     ]
    },
    {
     "name": "stdout",
     "output_type": "stream",
     "text": [
      "Epoch 4/5, Train Loss: 0.2012, Train Accuracy: 0.9349\n",
      "Validation accuracy increased (0.940285 --> 0.940285).  Saving model ...\n"
     ]
    },
    {
     "name": "stderr",
     "output_type": "stream",
     "text": [
      "Training Epoch 5: 469batch [01:29,  5.26batch/s]\n"
     ]
    },
    {
     "name": "stdout",
     "output_type": "stream",
     "text": [
      "Epoch 5/5, Train Loss: 0.1357, Train Accuracy: 0.9584\n",
      "Validation accuracy increased (0.952422 --> 0.952422).  Saving model ...\n",
      "Training complete. Task (C)\n"
     ]
    }
   ],
   "source": [
    "experiment3A = Runner_C(train_dataset_path=NER_TRAIN_3, test_dataset_path=NER_TEST_3, dev_dataset_path=NER_DEV_3, base_dir=PREDS_3_A, delimiter='\t', batch_size=32, ner=True, c_task=False)\n",
    "dev_acc_NER['d'] = (experiment3A.run(5))"
   ]
  },
  {
   "cell_type": "markdown",
   "metadata": {
    "id": "B8jGMZVq5uf9"
   },
   "source": [
    "##  Plot Results:"
   ]
  },
  {
   "cell_type": "code",
   "execution_count": 191,
   "metadata": {},
   "outputs": [
    {
     "data": {
      "text/plain": [
       "146"
      ]
     },
     "execution_count": 191,
     "metadata": {},
     "output_type": "execute_result"
    }
   ],
   "source": [
    "len(dev_acc_NER['a'])"
   ]
  },
  {
   "cell_type": "code",
   "execution_count": 199,
   "metadata": {},
   "outputs": [
    {
     "data": {
      "image/png": "[encoded data removed]",
      "text/plain": [
       "<Figure size 1500x1500 with 4 Axes>"
      ]
     },
     "metadata": {},
     "output_type": "display_data"
    }
   ],
   "source": [
    "import matplotlib.pyplot as plt\n",
    "import pandas as pd\n",
    "\n",
    "samples_POS = list(range(500, 500*(len(dev_acc_POS['a'])+1), 500))\n",
    "samples_NER = list(range(500, 500*(len(dev_acc_NER['a'])+1), 500))\n",
    "\n",
    "# converting the dictionaries into pandas DataFrames\n",
    "df_POS = pd.DataFrame(dev_acc_POS, index=samples_POS)\n",
    "df_NER = pd.DataFrame(dev_acc_NER, index=samples_NER)\n",
    "\n",
    "# creating subplots\n",
    "fig, ax = plt.subplots(4, 1, figsize=(15, 15))  # Increase width, add 2 more subplots for tables\n",
    "\n",
    "# POS plot\n",
    "df_POS.plot(ax=ax[0])\n",
    "ax[0].set_title('POS Validation Accuracy')\n",
    "ax[0].set_xlabel('Number of Samples')\n",
    "ax[0].set_ylabel('Accuracy')\n",
    "\n",
    "# creating a table for POS\n",
    "table_data_POS = df_POS.max().to_frame().T.round(4)  # Round to 4 decimal places\n",
    "table_data_POS.index = ['Max Accuracy']\n",
    "table_POS = ax[2].table(cellText=table_data_POS.values, colLabels=table_data_POS.columns, rowLabels=table_data_POS.index, cellLoc='center', loc='center')\n",
    "table_POS.scale(0.65, 0.65)  # Further scale up table size slightly\n",
    "ax[2].axis('tight')  # Hide axis for table\n",
    "ax[2].axis('off')\n",
    "\n",
    "# NER plot\n",
    "df_NER.plot(ax=ax[1])\n",
    "ax[1].set_title('NER Validation Accuracy')\n",
    "ax[1].set_xlabel('Number of Samples')\n",
    "ax[1].set_ylabel('Accuracy')\n",
    "\n",
    "# creating a table for NER\n",
    "table_data_NER = df_NER.max().to_frame().T.round(4)  # Round to 4 decimal places\n",
    "table_data_NER.index = ['Max Accuracy']\n",
    "table_NER = ax[3].table(cellText=table_data_NER.values, colLabels=table_data_NER.columns, rowLabels=table_data_NER.index, cellLoc='center', loc='center')\n",
    "table_NER.scale(0.65, 0.65)  # Further scale up table size slightly\n",
    "ax[3].axis('tight')  # Hide axis for table\n",
    "ax[3].axis('off')\n",
    "\n",
    "# adjusting the space between subplots\n",
    "plt.subplots_adjust(hspace=0.5)\n",
    "\n",
    "# showing the plots\n",
    "plt.tight_layout()\n",
    "plt.show()\n"
   ]
  },
  {
   "cell_type": "code",
   "execution_count": 36,
   "metadata": {},
   "outputs": [],
   "source": [
    "import argparse\n",
    "import logging\n",
    "\n",
    "def get_runner(repr, train_file, model_filepath, delimiter):\n",
    "    \"\"\"\n",
    "    Function to initialize the appropriate runner\n",
    "    Args:\n",
    "    repr (str): representation type, should be one of ['a', 'b', 'c', 'd']\n",
    "    train_file (str): path to the training file\n",
    "    model_filepath (str): path to the model file\n",
    "\n",
    "    Returns:\n",
    "    runner (Runner_A or Runner_B): initialized runner\n",
    "    \"\"\"\n",
    "    if repr == 'a':\n",
    "        return Runner_A(train_dataset_path=train_file, test_dataset_path=train_file, dev_dataset_path=train_file, base_dir=PREDS_3_A, delimiter=delimiter, batch_size=32, learning_rate=0.001, embedding_dim=10, lstm_hidden_dim=64, dropout=0)\n",
    "    elif repr == 'b':\n",
    "        return Runner_B(train_dataset_path=train_file, test_dataset_path=train_file, dev_dataset_path=train_file, base_dir=PREDS_3_A, delimiter=delimiter, batch_size=32, learning_rate=0.001, char_embedding_dim=10, lstm_hidden_dim=64, dropout=0)\n",
    "    elif repr == 'c':\n",
    "        return Runner_C(train_dataset_path=train_file, test_dataset_path=train_file, dev_dataset_path=train_file, base_dir=PREDS_3_A, delimiter=delimiter, batch_size=32, external_embedding=True)\n",
    "    elif repr == 'd':\n",
    "        return Runner_C(train_dataset_path=train_file, test_dataset_path=train_file, dev_dataset_path=train_file, base_dir=PREDS_3_A, delimiter=delimiter, batch_size=32, c_task=False)\n",
    "    else:\n",
    "        raise ValueError(f\"Invalid repr {repr}. Should be one of ['a', 'b', 'c', 'd']\")\n",
    "\n",
    "def main():\n",
    "    parser = argparse.ArgumentParser(description='BILSTM Training script')\n",
    "    parser.add_argument('repr', type=str, help='Representation type. Should be one of [a,b,c,d]')\n",
    "    parser.add_argument('trainFile', type=str, help='Path to the training file')\n",
    "    parser.add_argument('modelFilepath', type=str, help='Path to the model file')\n",
    "\n",
    "    args = parser.parse_args()\n",
    "\n",
    "    # Check if all arguments were provided\n",
    "    if not all([args.repr, args.trainFile, args.modelFilepath]):\n",
    "        parser.error('All arguments repr, trainFile and modelFilepath must be provided')\n",
    "    \n",
    "    logging.basicConfig(level=logging.INFO)\n",
    "    logger = logging.getLogger(__name__)\n",
    "    logger.info('Starting BILSTM Training...')\n",
    "\n",
    "    try:\n",
    "        runner = get_runner(args.repr, args.trainFile, args.modelFilepath)\n",
    "        if repr == 'd':\n",
    "            runner.run(5, d, args.modelFilepath)  # Assuming there's a `run` method in your Runner classes\n",
    "        else:\n",
    "            runner.run(5, args.modelFilepath)  # Assuming there's a `run` method in your Runner classes\n",
    "        logger.info('BILSTM Training completed successfully')\n",
    "    except Exception as e:\n",
    "        logger.error(f'An error occurred: {str(e)}')\n"
   ]
  },
  {
   "cell_type": "code",
   "execution_count": 38,
   "metadata": {},
   "outputs": [],
   "source": [
    "import argparse\n",
    "import logging\n",
    "\n",
    "def get_runner(repr, test_file, modelFile):\n",
    "    \"\"\"\n",
    "    Function to initialize the appropriate runner\n",
    "    Args:\n",
    "    repr (str): representation type, should be one of ['a', 'b', 'c', 'd']\n",
    "    train_file (str): path to the training file\n",
    "    model_filepath (str): path to the model file\n",
    "\n",
    "    Returns:\n",
    "    runner (Runner_A or Runner_B): initialized runner\n",
    "    \"\"\"\n",
    "    if repr == 'a':\n",
    "        runner = Runner_A(train_dataset_path=test_file, test_dataset_path=test_file, dev_dataset_path=test_file, base_dir=PREDS_3_A, delimiter=delimiter, batch_size=32, learning_rate=0.001, embedding_dim=10, lstm_hidden_dim=64, dropout=0)\n",
    "    elif repr == 'b':\n",
    "        runner = Runner_B(train_dataset_path=test_file, test_dataset_path=test_file, dev_dataset_path=test_file, base_dir=PREDS_3_A, delimiter=delimiter, batch_size=32, learning_rate=0.001, char_embedding_dim=10, lstm_hidden_dim=64, dropout=0)\n",
    "    elif repr == 'c':\n",
    "        runner = Runner_C(train_dataset_path=test_file, test_dataset_path=test_file, dev_dataset_path=test_file, base_dir=PREDS_3_A, delimiter=delimiter, batch_size=32, external_embedding=True)\n",
    "    elif repr == 'd':\n",
    "        runner = Runner_C(train_dataset_path=test_file, test_dataset_path=test_file, dev_dataset_path=test_file, base_dir=PREDS_3_A, delimiter=delimiter, batch_size=32, c_task=False)\n",
    "    else:\n",
    "        raise ValueError(f\"Invalid repr {repr}. Should be one of ['a', 'b', 'c', 'd']\")\n",
    "        \n",
    "    runner.load_test(args.test_file, args.modelFile)\n",
    "    return runner\n",
    "\n",
    "\n",
    "def main():\n",
    "    parser = argparse.ArgumentParser(description='BILSTM Prediction script')\n",
    "    parser.add_argument('repr', type=str, help='Representation type. Should be one of [a,b,c,d]')\n",
    "    parser.add_argument('modelFile', type=str, help='Path to the model file')\n",
    "    parser.add_argument('inputFile', type=str, help='Path to the input file')\n",
    "\n",
    "    args = parser.parse_args()\n",
    "\n",
    "    # Check if all arguments were provided\n",
    "    if not all([args.repr, args.modelFile, args.inputFile]):\n",
    "        parser.error('All arguments repr, modelFile and inputFile must be provided')\n",
    "    \n",
    "    logging.basicConfig(level=logging.INFO)\n",
    "    logger = logging.getLogger(__name__)\n",
    "    logger.info('Starting BILSTM Prediction...')\n",
    "\n",
    "    try:\n",
    "        runner = get_runner(args.repr, args.inputFile, args.modelFile)\n",
    "        dataset = DATASETS[args.repr]\n",
    "        runner.load_test(args.inputFile, args.modelFile, dataset)\n",
    "        runner.predict(args.inputFile, args.modelFile)\n",
    "\n",
    "        logger.info('BILSTM Prediction completed successfully')\n",
    "    except Exception as e:\n",
    "        logger.error(f'An error occurred: {str(e)}')"
   ]
  },
  {
   "cell_type": "code",
   "execution_count": null,
   "metadata": {},
   "outputs": [],
   "source": []
  }
 ],
 "metadata": {
  "accelerator": "GPU",
  "colab": {
   "collapsed_sections": [
    "6VrwUhpuqhQA",
    "U6hpeQAzH6MQ"
   ],
   "gpuType": "T4",
   "provenance": []
  },
  "gpuClass": "standard",
  "kernelspec": {
   "display_name": "Python 3 (ipykernel)",
   "language": "python",
   "name": "python3"
  },
  "language_info": {
   "codemirror_mode": {
    "name": "ipython",
    "version": 3
   },
   "file_extension": ".py",
   "mimetype": "text/x-python",
   "name": "python",
   "nbconvert_exporter": "python",
   "pygments_lexer": "ipython3",
   "version": "3.10.11"
  }
 },
 "nbformat": 4,
 "nbformat_minor": 4
}
